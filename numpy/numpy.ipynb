{
 "cells": [
  {
   "cell_type": "markdown",
   "metadata": {},
   "source": [
    "## Introduction of the Numpy "
   ]
  },
  {
   "cell_type": "code",
   "execution_count": 1,
   "metadata": {},
   "outputs": [
    {
     "name": "stdout",
     "output_type": "stream",
     "text": [
      "Aditya\n"
     ]
    }
   ],
   "source": [
    "print(\"Aditya\")"
   ]
  },
  {
   "cell_type": "code",
   "execution_count": 2,
   "metadata": {},
   "outputs": [],
   "source": [
    "import numpy as np"
   ]
  },
  {
   "cell_type": "markdown",
   "metadata": {},
   "source": [
    "# 1.Datatypes and Attributes"
   ]
  },
  {
   "cell_type": "code",
   "execution_count": 3,
   "metadata": {},
   "outputs": [],
   "source": [
    "a1=np.array([1,2,3])"
   ]
  },
  {
   "cell_type": "code",
   "execution_count": 4,
   "metadata": {},
   "outputs": [
    {
     "data": {
      "text/plain": [
       "array([1, 2, 3])"
      ]
     },
     "execution_count": 4,
     "metadata": {},
     "output_type": "execute_result"
    }
   ],
   "source": [
    "a1"
   ]
  },
  {
   "cell_type": "code",
   "execution_count": 5,
   "metadata": {},
   "outputs": [
    {
     "data": {
      "text/plain": [
       "numpy.ndarray"
      ]
     },
     "execution_count": 5,
     "metadata": {},
     "output_type": "execute_result"
    }
   ],
   "source": [
    "type(a1)"
   ]
  },
  {
   "cell_type": "code",
   "execution_count": 6,
   "metadata": {},
   "outputs": [
    {
     "data": {
      "text/plain": [
       "1"
      ]
     },
     "execution_count": 6,
     "metadata": {},
     "output_type": "execute_result"
    }
   ],
   "source": [
    "a1.ndim"
   ]
  },
  {
   "cell_type": "code",
   "execution_count": 7,
   "metadata": {},
   "outputs": [
    {
     "data": {
      "text/plain": [
       "dtype('int64')"
      ]
     },
     "execution_count": 7,
     "metadata": {},
     "output_type": "execute_result"
    }
   ],
   "source": [
    "a1.dtype"
   ]
  },
  {
   "cell_type": "code",
   "execution_count": 8,
   "metadata": {},
   "outputs": [
    {
     "data": {
      "text/plain": [
       "(3,)"
      ]
     },
     "execution_count": 8,
     "metadata": {},
     "output_type": "execute_result"
    }
   ],
   "source": [
    "a1.shape"
   ]
  },
  {
   "cell_type": "code",
   "execution_count": 9,
   "metadata": {},
   "outputs": [],
   "source": [
    "a2=np.array([[1,2,3],\n",
    "             [4,5,6]])"
   ]
  },
  {
   "cell_type": "code",
   "execution_count": 10,
   "metadata": {},
   "outputs": [
    {
     "data": {
      "text/plain": [
       "array([[1, 2, 3],\n",
       "       [4, 5, 6]])"
      ]
     },
     "execution_count": 10,
     "metadata": {},
     "output_type": "execute_result"
    }
   ],
   "source": [
    "a2"
   ]
  },
  {
   "cell_type": "markdown",
   "metadata": {},
   "source": [
    "## Three dimentional array"
   ]
  },
  {
   "cell_type": "code",
   "execution_count": 12,
   "metadata": {},
   "outputs": [],
   "source": [
    "a3=np.array([[\n",
    "    [1,2,3],\n",
    "    [4,5,6],\n",
    "    [7,8,9]],\n",
    "    [[10,11,12],\n",
    "    [13,14,15],\n",
    "    [16,17,18]]])"
   ]
  },
  {
   "cell_type": "code",
   "execution_count": 13,
   "metadata": {},
   "outputs": [
    {
     "data": {
      "text/plain": [
       "array([[[ 1,  2,  3],\n",
       "        [ 4,  5,  6],\n",
       "        [ 7,  8,  9]],\n",
       "\n",
       "       [[10, 11, 12],\n",
       "        [13, 14, 15],\n",
       "        [16, 17, 18]]])"
      ]
     },
     "execution_count": 13,
     "metadata": {},
     "output_type": "execute_result"
    }
   ],
   "source": [
    "a3"
   ]
  },
  {
   "cell_type": "code",
   "execution_count": 14,
   "metadata": {},
   "outputs": [
    {
     "data": {
      "text/plain": [
       "3"
      ]
     },
     "execution_count": 14,
     "metadata": {},
     "output_type": "execute_result"
    }
   ],
   "source": [
    "a3.ndim"
   ]
  },
  {
   "cell_type": "code",
   "execution_count": 15,
   "metadata": {},
   "outputs": [
    {
     "data": {
      "text/plain": [
       "dtype('int64')"
      ]
     },
     "execution_count": 15,
     "metadata": {},
     "output_type": "execute_result"
    }
   ],
   "source": [
    "a3.dtype"
   ]
  },
  {
   "cell_type": "code",
   "execution_count": 16,
   "metadata": {},
   "outputs": [
    {
     "data": {
      "text/plain": [
       "(2, 3, 3)"
      ]
     },
     "execution_count": 16,
     "metadata": {},
     "output_type": "execute_result"
    }
   ],
   "source": [
    "a3.shape"
   ]
  },
  {
   "cell_type": "code",
   "execution_count": 17,
   "metadata": {},
   "outputs": [
    {
     "data": {
      "text/plain": [
       "(array([1, 2, 3]),\n",
       " array([[1, 2, 3],\n",
       "        [4, 5, 6]]),\n",
       " array([[[ 1,  2,  3],\n",
       "         [ 4,  5,  6],\n",
       "         [ 7,  8,  9]],\n",
       " \n",
       "        [[10, 11, 12],\n",
       "         [13, 14, 15],\n",
       "         [16, 17, 18]]]))"
      ]
     },
     "execution_count": 17,
     "metadata": {},
     "output_type": "execute_result"
    }
   ],
   "source": [
    "a1,a2,a3"
   ]
  },
  {
   "cell_type": "code",
   "execution_count": 18,
   "metadata": {},
   "outputs": [
    {
     "data": {
      "text/plain": [
       "3"
      ]
     },
     "execution_count": 18,
     "metadata": {},
     "output_type": "execute_result"
    }
   ],
   "source": [
    "a1.size"
   ]
  },
  {
   "cell_type": "code",
   "execution_count": 19,
   "metadata": {},
   "outputs": [
    {
     "data": {
      "text/plain": [
       "6"
      ]
     },
     "execution_count": 19,
     "metadata": {},
     "output_type": "execute_result"
    }
   ],
   "source": [
    "a2.size"
   ]
  },
  {
   "cell_type": "code",
   "execution_count": 21,
   "metadata": {},
   "outputs": [
    {
     "data": {
      "text/plain": [
       "18"
      ]
     },
     "execution_count": 21,
     "metadata": {},
     "output_type": "execute_result"
    }
   ],
   "source": [
    "a3.size"
   ]
  },
  {
   "cell_type": "code",
   "execution_count": 23,
   "metadata": {},
   "outputs": [
    {
     "data": {
      "text/plain": [
       "array([[1. , 2.2, 3. ],\n",
       "       [4. , 5. , 6. ]])"
      ]
     },
     "execution_count": 23,
     "metadata": {},
     "output_type": "execute_result"
    }
   ],
   "source": [
    "a2=np.array([[1.0,2.2,3],\n",
    "             [4,5,6]])\n",
    "a2"
   ]
  },
  {
   "cell_type": "code",
   "execution_count": 24,
   "metadata": {},
   "outputs": [
    {
     "data": {
      "text/plain": [
       "dtype('float64')"
      ]
     },
     "execution_count": 24,
     "metadata": {},
     "output_type": "execute_result"
    }
   ],
   "source": [
    "a2.dtype"
   ]
  },
  {
   "cell_type": "markdown",
   "metadata": {},
   "source": [
    "### we can create a pandas data frame using 2d array in numpy"
   ]
  },
  {
   "cell_type": "code",
   "execution_count": 25,
   "metadata": {},
   "outputs": [],
   "source": [
    "import pandas as pd"
   ]
  },
  {
   "cell_type": "code",
   "execution_count": 26,
   "metadata": {},
   "outputs": [],
   "source": [
    "df=pd.DataFrame(a2)"
   ]
  },
  {
   "cell_type": "code",
   "execution_count": 27,
   "metadata": {},
   "outputs": [
    {
     "data": {
      "text/html": [
       "<div>\n",
       "<style scoped>\n",
       "    .dataframe tbody tr th:only-of-type {\n",
       "        vertical-align: middle;\n",
       "    }\n",
       "\n",
       "    .dataframe tbody tr th {\n",
       "        vertical-align: top;\n",
       "    }\n",
       "\n",
       "    .dataframe thead th {\n",
       "        text-align: right;\n",
       "    }\n",
       "</style>\n",
       "<table border=\"1\" class=\"dataframe\">\n",
       "  <thead>\n",
       "    <tr style=\"text-align: right;\">\n",
       "      <th></th>\n",
       "      <th>0</th>\n",
       "      <th>1</th>\n",
       "      <th>2</th>\n",
       "    </tr>\n",
       "  </thead>\n",
       "  <tbody>\n",
       "    <tr>\n",
       "      <th>0</th>\n",
       "      <td>1.0</td>\n",
       "      <td>2.2</td>\n",
       "      <td>3.0</td>\n",
       "    </tr>\n",
       "    <tr>\n",
       "      <th>1</th>\n",
       "      <td>4.0</td>\n",
       "      <td>5.0</td>\n",
       "      <td>6.0</td>\n",
       "    </tr>\n",
       "  </tbody>\n",
       "</table>\n",
       "</div>"
      ],
      "text/plain": [
       "     0    1    2\n",
       "0  1.0  2.2  3.0\n",
       "1  4.0  5.0  6.0"
      ]
     },
     "execution_count": 27,
     "metadata": {},
     "output_type": "execute_result"
    }
   ],
   "source": [
    "df"
   ]
  },
  {
   "cell_type": "code",
   "execution_count": 28,
   "metadata": {},
   "outputs": [
    {
     "data": {
      "text/plain": [
       "pandas.core.frame.DataFrame"
      ]
     },
     "execution_count": 28,
     "metadata": {},
     "output_type": "execute_result"
    }
   ],
   "source": [
    "type(df)"
   ]
  },
  {
   "cell_type": "markdown",
   "metadata": {},
   "source": [
    "# 2. Creating the array\n"
   ]
  },
  {
   "cell_type": "code",
   "execution_count": 29,
   "metadata": {},
   "outputs": [],
   "source": [
    "sample=np.array([1,2,3])"
   ]
  },
  {
   "cell_type": "code",
   "execution_count": 30,
   "metadata": {},
   "outputs": [
    {
     "data": {
      "text/plain": [
       "array([1, 2, 3])"
      ]
     },
     "execution_count": 30,
     "metadata": {},
     "output_type": "execute_result"
    }
   ],
   "source": [
    "sample"
   ]
  },
  {
   "cell_type": "code",
   "execution_count": 31,
   "metadata": {},
   "outputs": [
    {
     "data": {
      "text/plain": [
       "dtype('int64')"
      ]
     },
     "execution_count": 31,
     "metadata": {},
     "output_type": "execute_result"
    }
   ],
   "source": [
    "sample.dtype"
   ]
  },
  {
   "cell_type": "code",
   "execution_count": 32,
   "metadata": {},
   "outputs": [
    {
     "data": {
      "text/plain": [
       "1"
      ]
     },
     "execution_count": 32,
     "metadata": {},
     "output_type": "execute_result"
    }
   ],
   "source": [
    "sample.ndim"
   ]
  },
  {
   "cell_type": "code",
   "execution_count": 33,
   "metadata": {},
   "outputs": [
    {
     "data": {
      "text/plain": [
       "3"
      ]
     },
     "execution_count": 33,
     "metadata": {},
     "output_type": "execute_result"
    }
   ],
   "source": [
    "sample.size"
   ]
  },
  {
   "cell_type": "code",
   "execution_count": 34,
   "metadata": {},
   "outputs": [
    {
     "data": {
      "text/plain": [
       "(3,)"
      ]
     },
     "execution_count": 34,
     "metadata": {},
     "output_type": "execute_result"
    }
   ],
   "source": [
    "sample.shape"
   ]
  },
  {
   "cell_type": "code",
   "execution_count": 35,
   "metadata": {},
   "outputs": [],
   "source": [
    "ones=np.ones(3)"
   ]
  },
  {
   "cell_type": "code",
   "execution_count": 36,
   "metadata": {},
   "outputs": [
    {
     "data": {
      "text/plain": [
       "array([1., 1., 1.])"
      ]
     },
     "execution_count": 36,
     "metadata": {},
     "output_type": "execute_result"
    }
   ],
   "source": [
    "ones"
   ]
  },
  {
   "cell_type": "code",
   "execution_count": 39,
   "metadata": {},
   "outputs": [],
   "source": [
    "onetwo=np.ones((3,3))"
   ]
  },
  {
   "cell_type": "code",
   "execution_count": 40,
   "metadata": {},
   "outputs": [
    {
     "data": {
      "text/plain": [
       "array([[1., 1., 1.],\n",
       "       [1., 1., 1.],\n",
       "       [1., 1., 1.]])"
      ]
     },
     "execution_count": 40,
     "metadata": {},
     "output_type": "execute_result"
    }
   ],
   "source": [
    "onetwo"
   ]
  },
  {
   "cell_type": "code",
   "execution_count": 41,
   "metadata": {},
   "outputs": [
    {
     "data": {
      "text/plain": [
       "dtype('float64')"
      ]
     },
     "execution_count": 41,
     "metadata": {},
     "output_type": "execute_result"
    }
   ],
   "source": [
    "ones.dtype"
   ]
  },
  {
   "cell_type": "code",
   "execution_count": 44,
   "metadata": {},
   "outputs": [],
   "source": [
    "zeros=np.zeros(40)"
   ]
  },
  {
   "cell_type": "code",
   "execution_count": 45,
   "metadata": {},
   "outputs": [
    {
     "data": {
      "text/plain": [
       "array([0., 0., 0., 0., 0., 0., 0., 0., 0., 0., 0., 0., 0., 0., 0., 0., 0.,\n",
       "       0., 0., 0., 0., 0., 0., 0., 0., 0., 0., 0., 0., 0., 0., 0., 0., 0.,\n",
       "       0., 0., 0., 0., 0., 0.])"
      ]
     },
     "execution_count": 45,
     "metadata": {},
     "output_type": "execute_result"
    }
   ],
   "source": [
    "zeros"
   ]
  },
  {
   "cell_type": "code",
   "execution_count": 46,
   "metadata": {},
   "outputs": [],
   "source": [
    "zerotwo=np.zeros((4,4))"
   ]
  },
  {
   "cell_type": "code",
   "execution_count": 47,
   "metadata": {},
   "outputs": [
    {
     "data": {
      "text/plain": [
       "array([[0., 0., 0., 0.],\n",
       "       [0., 0., 0., 0.],\n",
       "       [0., 0., 0., 0.],\n",
       "       [0., 0., 0., 0.]])"
      ]
     },
     "execution_count": 47,
     "metadata": {},
     "output_type": "execute_result"
    }
   ],
   "source": [
    "zerotwo"
   ]
  },
  {
   "cell_type": "code",
   "execution_count": null,
   "metadata": {},
   "outputs": [],
   "source": []
  },
  {
   "cell_type": "markdown",
   "metadata": {},
   "source": [
    "## arrange the numbers "
   ]
  },
  {
   "cell_type": "code",
   "execution_count": 52,
   "metadata": {},
   "outputs": [],
   "source": [
    "range=np.arange(0,10,3)\n",
    "#lower limit    upper limit    step"
   ]
  },
  {
   "cell_type": "code",
   "execution_count": 53,
   "metadata": {},
   "outputs": [
    {
     "data": {
      "text/plain": [
       "array([0, 3, 6, 9])"
      ]
     },
     "execution_count": 53,
     "metadata": {},
     "output_type": "execute_result"
    }
   ],
   "source": [
    "range"
   ]
  },
  {
   "cell_type": "code",
   "execution_count": 54,
   "metadata": {},
   "outputs": [],
   "source": [
    "## random integers between the range"
   ]
  },
  {
   "cell_type": "code",
   "execution_count": 55,
   "metadata": {},
   "outputs": [
    {
     "data": {
      "text/plain": [
       "array([[8, 5, 0],\n",
       "       [7, 5, 1],\n",
       "       [5, 4, 4]])"
      ]
     },
     "execution_count": 55,
     "metadata": {},
     "output_type": "execute_result"
    }
   ],
   "source": [
    "np.random.randint(0,10,size=(3,3))"
   ]
  },
  {
   "cell_type": "code",
   "execution_count": 66,
   "metadata": {},
   "outputs": [],
   "source": [
    "sample=np.random.randint(0,100,size=(50,50))"
   ]
  },
  {
   "cell_type": "code",
   "execution_count": 67,
   "metadata": {},
   "outputs": [
    {
     "data": {
      "text/plain": [
       "array([[87, 17, 79, ..., 97, 79, 63],\n",
       "       [47, 58, 98, ..., 41, 17, 62],\n",
       "       [52, 79, 92, ...,  3, 74, 80],\n",
       "       ...,\n",
       "       [41, 10, 42, ..., 99, 35,  1],\n",
       "       [75, 89, 44, ..., 16, 27, 35],\n",
       "       [55, 61,  8, ..., 73, 84, 52]])"
      ]
     },
     "execution_count": 67,
     "metadata": {},
     "output_type": "execute_result"
    }
   ],
   "source": [
    "sample"
   ]
  },
  {
   "cell_type": "code",
   "execution_count": 68,
   "metadata": {},
   "outputs": [
    {
     "data": {
      "text/plain": [
       "2"
      ]
     },
     "execution_count": 68,
     "metadata": {},
     "output_type": "execute_result"
    }
   ],
   "source": [
    "sample.ndim"
   ]
  },
  {
   "cell_type": "code",
   "execution_count": 69,
   "metadata": {},
   "outputs": [
    {
     "data": {
      "text/plain": [
       "2500"
      ]
     },
     "execution_count": 69,
     "metadata": {},
     "output_type": "execute_result"
    }
   ],
   "source": [
    "sample.size"
   ]
  },
  {
   "cell_type": "code",
   "execution_count": 70,
   "metadata": {},
   "outputs": [
    {
     "data": {
      "text/plain": [
       "dtype('int64')"
      ]
     },
     "execution_count": 70,
     "metadata": {},
     "output_type": "execute_result"
    }
   ],
   "source": [
    "sample.dtype"
   ]
  },
  {
   "cell_type": "code",
   "execution_count": 71,
   "metadata": {},
   "outputs": [],
   "source": [
    "df=pd.DataFrame(sample)"
   ]
  },
  {
   "cell_type": "code",
   "execution_count": 72,
   "metadata": {},
   "outputs": [
    {
     "data": {
      "text/html": [
       "<div>\n",
       "<style scoped>\n",
       "    .dataframe tbody tr th:only-of-type {\n",
       "        vertical-align: middle;\n",
       "    }\n",
       "\n",
       "    .dataframe tbody tr th {\n",
       "        vertical-align: top;\n",
       "    }\n",
       "\n",
       "    .dataframe thead th {\n",
       "        text-align: right;\n",
       "    }\n",
       "</style>\n",
       "<table border=\"1\" class=\"dataframe\">\n",
       "  <thead>\n",
       "    <tr style=\"text-align: right;\">\n",
       "      <th></th>\n",
       "      <th>0</th>\n",
       "      <th>1</th>\n",
       "      <th>2</th>\n",
       "      <th>3</th>\n",
       "      <th>4</th>\n",
       "      <th>5</th>\n",
       "      <th>6</th>\n",
       "      <th>7</th>\n",
       "      <th>8</th>\n",
       "      <th>9</th>\n",
       "      <th>...</th>\n",
       "      <th>40</th>\n",
       "      <th>41</th>\n",
       "      <th>42</th>\n",
       "      <th>43</th>\n",
       "      <th>44</th>\n",
       "      <th>45</th>\n",
       "      <th>46</th>\n",
       "      <th>47</th>\n",
       "      <th>48</th>\n",
       "      <th>49</th>\n",
       "    </tr>\n",
       "  </thead>\n",
       "  <tbody>\n",
       "    <tr>\n",
       "      <th>0</th>\n",
       "      <td>87</td>\n",
       "      <td>17</td>\n",
       "      <td>79</td>\n",
       "      <td>90</td>\n",
       "      <td>81</td>\n",
       "      <td>11</td>\n",
       "      <td>27</td>\n",
       "      <td>37</td>\n",
       "      <td>21</td>\n",
       "      <td>40</td>\n",
       "      <td>...</td>\n",
       "      <td>98</td>\n",
       "      <td>30</td>\n",
       "      <td>41</td>\n",
       "      <td>40</td>\n",
       "      <td>73</td>\n",
       "      <td>18</td>\n",
       "      <td>84</td>\n",
       "      <td>97</td>\n",
       "      <td>79</td>\n",
       "      <td>63</td>\n",
       "    </tr>\n",
       "    <tr>\n",
       "      <th>1</th>\n",
       "      <td>47</td>\n",
       "      <td>58</td>\n",
       "      <td>98</td>\n",
       "      <td>83</td>\n",
       "      <td>75</td>\n",
       "      <td>89</td>\n",
       "      <td>19</td>\n",
       "      <td>89</td>\n",
       "      <td>75</td>\n",
       "      <td>63</td>\n",
       "      <td>...</td>\n",
       "      <td>77</td>\n",
       "      <td>41</td>\n",
       "      <td>30</td>\n",
       "      <td>78</td>\n",
       "      <td>84</td>\n",
       "      <td>41</td>\n",
       "      <td>9</td>\n",
       "      <td>41</td>\n",
       "      <td>17</td>\n",
       "      <td>62</td>\n",
       "    </tr>\n",
       "    <tr>\n",
       "      <th>2</th>\n",
       "      <td>52</td>\n",
       "      <td>79</td>\n",
       "      <td>92</td>\n",
       "      <td>73</td>\n",
       "      <td>66</td>\n",
       "      <td>98</td>\n",
       "      <td>37</td>\n",
       "      <td>40</td>\n",
       "      <td>23</td>\n",
       "      <td>38</td>\n",
       "      <td>...</td>\n",
       "      <td>56</td>\n",
       "      <td>40</td>\n",
       "      <td>87</td>\n",
       "      <td>59</td>\n",
       "      <td>81</td>\n",
       "      <td>53</td>\n",
       "      <td>82</td>\n",
       "      <td>3</td>\n",
       "      <td>74</td>\n",
       "      <td>80</td>\n",
       "    </tr>\n",
       "    <tr>\n",
       "      <th>3</th>\n",
       "      <td>80</td>\n",
       "      <td>2</td>\n",
       "      <td>35</td>\n",
       "      <td>63</td>\n",
       "      <td>26</td>\n",
       "      <td>8</td>\n",
       "      <td>69</td>\n",
       "      <td>35</td>\n",
       "      <td>70</td>\n",
       "      <td>28</td>\n",
       "      <td>...</td>\n",
       "      <td>82</td>\n",
       "      <td>98</td>\n",
       "      <td>90</td>\n",
       "      <td>36</td>\n",
       "      <td>33</td>\n",
       "      <td>96</td>\n",
       "      <td>8</td>\n",
       "      <td>5</td>\n",
       "      <td>58</td>\n",
       "      <td>44</td>\n",
       "    </tr>\n",
       "    <tr>\n",
       "      <th>4</th>\n",
       "      <td>45</td>\n",
       "      <td>76</td>\n",
       "      <td>40</td>\n",
       "      <td>70</td>\n",
       "      <td>84</td>\n",
       "      <td>26</td>\n",
       "      <td>95</td>\n",
       "      <td>3</td>\n",
       "      <td>30</td>\n",
       "      <td>25</td>\n",
       "      <td>...</td>\n",
       "      <td>85</td>\n",
       "      <td>93</td>\n",
       "      <td>75</td>\n",
       "      <td>71</td>\n",
       "      <td>57</td>\n",
       "      <td>90</td>\n",
       "      <td>44</td>\n",
       "      <td>81</td>\n",
       "      <td>99</td>\n",
       "      <td>19</td>\n",
       "    </tr>\n",
       "    <tr>\n",
       "      <th>5</th>\n",
       "      <td>51</td>\n",
       "      <td>99</td>\n",
       "      <td>52</td>\n",
       "      <td>27</td>\n",
       "      <td>58</td>\n",
       "      <td>1</td>\n",
       "      <td>52</td>\n",
       "      <td>33</td>\n",
       "      <td>86</td>\n",
       "      <td>65</td>\n",
       "      <td>...</td>\n",
       "      <td>85</td>\n",
       "      <td>97</td>\n",
       "      <td>88</td>\n",
       "      <td>82</td>\n",
       "      <td>72</td>\n",
       "      <td>65</td>\n",
       "      <td>25</td>\n",
       "      <td>5</td>\n",
       "      <td>82</td>\n",
       "      <td>53</td>\n",
       "    </tr>\n",
       "    <tr>\n",
       "      <th>6</th>\n",
       "      <td>12</td>\n",
       "      <td>29</td>\n",
       "      <td>16</td>\n",
       "      <td>97</td>\n",
       "      <td>43</td>\n",
       "      <td>1</td>\n",
       "      <td>59</td>\n",
       "      <td>63</td>\n",
       "      <td>79</td>\n",
       "      <td>82</td>\n",
       "      <td>...</td>\n",
       "      <td>23</td>\n",
       "      <td>8</td>\n",
       "      <td>45</td>\n",
       "      <td>60</td>\n",
       "      <td>51</td>\n",
       "      <td>53</td>\n",
       "      <td>74</td>\n",
       "      <td>55</td>\n",
       "      <td>24</td>\n",
       "      <td>83</td>\n",
       "    </tr>\n",
       "    <tr>\n",
       "      <th>7</th>\n",
       "      <td>48</td>\n",
       "      <td>64</td>\n",
       "      <td>52</td>\n",
       "      <td>56</td>\n",
       "      <td>74</td>\n",
       "      <td>45</td>\n",
       "      <td>40</td>\n",
       "      <td>11</td>\n",
       "      <td>80</td>\n",
       "      <td>12</td>\n",
       "      <td>...</td>\n",
       "      <td>2</td>\n",
       "      <td>73</td>\n",
       "      <td>81</td>\n",
       "      <td>11</td>\n",
       "      <td>56</td>\n",
       "      <td>50</td>\n",
       "      <td>34</td>\n",
       "      <td>93</td>\n",
       "      <td>93</td>\n",
       "      <td>22</td>\n",
       "    </tr>\n",
       "    <tr>\n",
       "      <th>8</th>\n",
       "      <td>20</td>\n",
       "      <td>28</td>\n",
       "      <td>51</td>\n",
       "      <td>10</td>\n",
       "      <td>45</td>\n",
       "      <td>54</td>\n",
       "      <td>99</td>\n",
       "      <td>54</td>\n",
       "      <td>35</td>\n",
       "      <td>71</td>\n",
       "      <td>...</td>\n",
       "      <td>97</td>\n",
       "      <td>83</td>\n",
       "      <td>92</td>\n",
       "      <td>35</td>\n",
       "      <td>12</td>\n",
       "      <td>66</td>\n",
       "      <td>95</td>\n",
       "      <td>70</td>\n",
       "      <td>39</td>\n",
       "      <td>81</td>\n",
       "    </tr>\n",
       "    <tr>\n",
       "      <th>9</th>\n",
       "      <td>5</td>\n",
       "      <td>77</td>\n",
       "      <td>24</td>\n",
       "      <td>44</td>\n",
       "      <td>97</td>\n",
       "      <td>38</td>\n",
       "      <td>70</td>\n",
       "      <td>92</td>\n",
       "      <td>21</td>\n",
       "      <td>20</td>\n",
       "      <td>...</td>\n",
       "      <td>90</td>\n",
       "      <td>86</td>\n",
       "      <td>75</td>\n",
       "      <td>19</td>\n",
       "      <td>86</td>\n",
       "      <td>22</td>\n",
       "      <td>25</td>\n",
       "      <td>85</td>\n",
       "      <td>72</td>\n",
       "      <td>1</td>\n",
       "    </tr>\n",
       "    <tr>\n",
       "      <th>10</th>\n",
       "      <td>99</td>\n",
       "      <td>58</td>\n",
       "      <td>76</td>\n",
       "      <td>41</td>\n",
       "      <td>19</td>\n",
       "      <td>25</td>\n",
       "      <td>49</td>\n",
       "      <td>0</td>\n",
       "      <td>32</td>\n",
       "      <td>52</td>\n",
       "      <td>...</td>\n",
       "      <td>52</td>\n",
       "      <td>95</td>\n",
       "      <td>67</td>\n",
       "      <td>60</td>\n",
       "      <td>80</td>\n",
       "      <td>5</td>\n",
       "      <td>81</td>\n",
       "      <td>97</td>\n",
       "      <td>69</td>\n",
       "      <td>77</td>\n",
       "    </tr>\n",
       "    <tr>\n",
       "      <th>11</th>\n",
       "      <td>49</td>\n",
       "      <td>81</td>\n",
       "      <td>38</td>\n",
       "      <td>44</td>\n",
       "      <td>90</td>\n",
       "      <td>17</td>\n",
       "      <td>9</td>\n",
       "      <td>45</td>\n",
       "      <td>70</td>\n",
       "      <td>98</td>\n",
       "      <td>...</td>\n",
       "      <td>65</td>\n",
       "      <td>36</td>\n",
       "      <td>38</td>\n",
       "      <td>98</td>\n",
       "      <td>74</td>\n",
       "      <td>96</td>\n",
       "      <td>98</td>\n",
       "      <td>22</td>\n",
       "      <td>17</td>\n",
       "      <td>60</td>\n",
       "    </tr>\n",
       "    <tr>\n",
       "      <th>12</th>\n",
       "      <td>86</td>\n",
       "      <td>24</td>\n",
       "      <td>95</td>\n",
       "      <td>97</td>\n",
       "      <td>68</td>\n",
       "      <td>39</td>\n",
       "      <td>1</td>\n",
       "      <td>79</td>\n",
       "      <td>44</td>\n",
       "      <td>75</td>\n",
       "      <td>...</td>\n",
       "      <td>37</td>\n",
       "      <td>10</td>\n",
       "      <td>13</td>\n",
       "      <td>38</td>\n",
       "      <td>80</td>\n",
       "      <td>28</td>\n",
       "      <td>81</td>\n",
       "      <td>78</td>\n",
       "      <td>12</td>\n",
       "      <td>69</td>\n",
       "    </tr>\n",
       "    <tr>\n",
       "      <th>13</th>\n",
       "      <td>89</td>\n",
       "      <td>93</td>\n",
       "      <td>41</td>\n",
       "      <td>88</td>\n",
       "      <td>75</td>\n",
       "      <td>60</td>\n",
       "      <td>87</td>\n",
       "      <td>45</td>\n",
       "      <td>60</td>\n",
       "      <td>57</td>\n",
       "      <td>...</td>\n",
       "      <td>84</td>\n",
       "      <td>58</td>\n",
       "      <td>44</td>\n",
       "      <td>93</td>\n",
       "      <td>39</td>\n",
       "      <td>6</td>\n",
       "      <td>26</td>\n",
       "      <td>5</td>\n",
       "      <td>73</td>\n",
       "      <td>74</td>\n",
       "    </tr>\n",
       "    <tr>\n",
       "      <th>14</th>\n",
       "      <td>5</td>\n",
       "      <td>28</td>\n",
       "      <td>21</td>\n",
       "      <td>14</td>\n",
       "      <td>15</td>\n",
       "      <td>27</td>\n",
       "      <td>2</td>\n",
       "      <td>90</td>\n",
       "      <td>4</td>\n",
       "      <td>0</td>\n",
       "      <td>...</td>\n",
       "      <td>47</td>\n",
       "      <td>1</td>\n",
       "      <td>76</td>\n",
       "      <td>97</td>\n",
       "      <td>54</td>\n",
       "      <td>50</td>\n",
       "      <td>80</td>\n",
       "      <td>52</td>\n",
       "      <td>80</td>\n",
       "      <td>10</td>\n",
       "    </tr>\n",
       "    <tr>\n",
       "      <th>15</th>\n",
       "      <td>6</td>\n",
       "      <td>70</td>\n",
       "      <td>17</td>\n",
       "      <td>22</td>\n",
       "      <td>7</td>\n",
       "      <td>68</td>\n",
       "      <td>32</td>\n",
       "      <td>68</td>\n",
       "      <td>99</td>\n",
       "      <td>54</td>\n",
       "      <td>...</td>\n",
       "      <td>50</td>\n",
       "      <td>48</td>\n",
       "      <td>1</td>\n",
       "      <td>37</td>\n",
       "      <td>69</td>\n",
       "      <td>11</td>\n",
       "      <td>55</td>\n",
       "      <td>30</td>\n",
       "      <td>12</td>\n",
       "      <td>5</td>\n",
       "    </tr>\n",
       "    <tr>\n",
       "      <th>16</th>\n",
       "      <td>5</td>\n",
       "      <td>7</td>\n",
       "      <td>34</td>\n",
       "      <td>34</td>\n",
       "      <td>35</td>\n",
       "      <td>7</td>\n",
       "      <td>66</td>\n",
       "      <td>98</td>\n",
       "      <td>42</td>\n",
       "      <td>60</td>\n",
       "      <td>...</td>\n",
       "      <td>54</td>\n",
       "      <td>26</td>\n",
       "      <td>12</td>\n",
       "      <td>72</td>\n",
       "      <td>9</td>\n",
       "      <td>42</td>\n",
       "      <td>58</td>\n",
       "      <td>9</td>\n",
       "      <td>22</td>\n",
       "      <td>79</td>\n",
       "    </tr>\n",
       "    <tr>\n",
       "      <th>17</th>\n",
       "      <td>95</td>\n",
       "      <td>87</td>\n",
       "      <td>33</td>\n",
       "      <td>44</td>\n",
       "      <td>4</td>\n",
       "      <td>73</td>\n",
       "      <td>19</td>\n",
       "      <td>11</td>\n",
       "      <td>82</td>\n",
       "      <td>87</td>\n",
       "      <td>...</td>\n",
       "      <td>0</td>\n",
       "      <td>87</td>\n",
       "      <td>9</td>\n",
       "      <td>54</td>\n",
       "      <td>41</td>\n",
       "      <td>53</td>\n",
       "      <td>64</td>\n",
       "      <td>11</td>\n",
       "      <td>27</td>\n",
       "      <td>84</td>\n",
       "    </tr>\n",
       "    <tr>\n",
       "      <th>18</th>\n",
       "      <td>41</td>\n",
       "      <td>11</td>\n",
       "      <td>68</td>\n",
       "      <td>57</td>\n",
       "      <td>78</td>\n",
       "      <td>22</td>\n",
       "      <td>36</td>\n",
       "      <td>66</td>\n",
       "      <td>91</td>\n",
       "      <td>18</td>\n",
       "      <td>...</td>\n",
       "      <td>95</td>\n",
       "      <td>25</td>\n",
       "      <td>41</td>\n",
       "      <td>85</td>\n",
       "      <td>49</td>\n",
       "      <td>57</td>\n",
       "      <td>41</td>\n",
       "      <td>83</td>\n",
       "      <td>87</td>\n",
       "      <td>41</td>\n",
       "    </tr>\n",
       "    <tr>\n",
       "      <th>19</th>\n",
       "      <td>84</td>\n",
       "      <td>95</td>\n",
       "      <td>26</td>\n",
       "      <td>9</td>\n",
       "      <td>98</td>\n",
       "      <td>5</td>\n",
       "      <td>85</td>\n",
       "      <td>26</td>\n",
       "      <td>41</td>\n",
       "      <td>75</td>\n",
       "      <td>...</td>\n",
       "      <td>55</td>\n",
       "      <td>27</td>\n",
       "      <td>73</td>\n",
       "      <td>30</td>\n",
       "      <td>64</td>\n",
       "      <td>52</td>\n",
       "      <td>4</td>\n",
       "      <td>66</td>\n",
       "      <td>12</td>\n",
       "      <td>39</td>\n",
       "    </tr>\n",
       "    <tr>\n",
       "      <th>20</th>\n",
       "      <td>99</td>\n",
       "      <td>27</td>\n",
       "      <td>59</td>\n",
       "      <td>34</td>\n",
       "      <td>28</td>\n",
       "      <td>83</td>\n",
       "      <td>89</td>\n",
       "      <td>9</td>\n",
       "      <td>91</td>\n",
       "      <td>28</td>\n",
       "      <td>...</td>\n",
       "      <td>17</td>\n",
       "      <td>95</td>\n",
       "      <td>75</td>\n",
       "      <td>62</td>\n",
       "      <td>11</td>\n",
       "      <td>69</td>\n",
       "      <td>57</td>\n",
       "      <td>93</td>\n",
       "      <td>73</td>\n",
       "      <td>87</td>\n",
       "    </tr>\n",
       "    <tr>\n",
       "      <th>21</th>\n",
       "      <td>90</td>\n",
       "      <td>89</td>\n",
       "      <td>31</td>\n",
       "      <td>22</td>\n",
       "      <td>75</td>\n",
       "      <td>39</td>\n",
       "      <td>83</td>\n",
       "      <td>3</td>\n",
       "      <td>16</td>\n",
       "      <td>21</td>\n",
       "      <td>...</td>\n",
       "      <td>19</td>\n",
       "      <td>2</td>\n",
       "      <td>9</td>\n",
       "      <td>67</td>\n",
       "      <td>78</td>\n",
       "      <td>53</td>\n",
       "      <td>27</td>\n",
       "      <td>63</td>\n",
       "      <td>69</td>\n",
       "      <td>19</td>\n",
       "    </tr>\n",
       "    <tr>\n",
       "      <th>22</th>\n",
       "      <td>64</td>\n",
       "      <td>24</td>\n",
       "      <td>37</td>\n",
       "      <td>70</td>\n",
       "      <td>45</td>\n",
       "      <td>51</td>\n",
       "      <td>36</td>\n",
       "      <td>38</td>\n",
       "      <td>2</td>\n",
       "      <td>40</td>\n",
       "      <td>...</td>\n",
       "      <td>5</td>\n",
       "      <td>66</td>\n",
       "      <td>64</td>\n",
       "      <td>50</td>\n",
       "      <td>51</td>\n",
       "      <td>74</td>\n",
       "      <td>80</td>\n",
       "      <td>27</td>\n",
       "      <td>81</td>\n",
       "      <td>10</td>\n",
       "    </tr>\n",
       "    <tr>\n",
       "      <th>23</th>\n",
       "      <td>39</td>\n",
       "      <td>63</td>\n",
       "      <td>5</td>\n",
       "      <td>85</td>\n",
       "      <td>39</td>\n",
       "      <td>67</td>\n",
       "      <td>20</td>\n",
       "      <td>95</td>\n",
       "      <td>21</td>\n",
       "      <td>18</td>\n",
       "      <td>...</td>\n",
       "      <td>84</td>\n",
       "      <td>36</td>\n",
       "      <td>68</td>\n",
       "      <td>14</td>\n",
       "      <td>1</td>\n",
       "      <td>48</td>\n",
       "      <td>88</td>\n",
       "      <td>42</td>\n",
       "      <td>23</td>\n",
       "      <td>68</td>\n",
       "    </tr>\n",
       "    <tr>\n",
       "      <th>24</th>\n",
       "      <td>21</td>\n",
       "      <td>33</td>\n",
       "      <td>93</td>\n",
       "      <td>49</td>\n",
       "      <td>47</td>\n",
       "      <td>32</td>\n",
       "      <td>57</td>\n",
       "      <td>62</td>\n",
       "      <td>35</td>\n",
       "      <td>19</td>\n",
       "      <td>...</td>\n",
       "      <td>86</td>\n",
       "      <td>41</td>\n",
       "      <td>50</td>\n",
       "      <td>89</td>\n",
       "      <td>67</td>\n",
       "      <td>72</td>\n",
       "      <td>51</td>\n",
       "      <td>37</td>\n",
       "      <td>17</td>\n",
       "      <td>76</td>\n",
       "    </tr>\n",
       "    <tr>\n",
       "      <th>25</th>\n",
       "      <td>66</td>\n",
       "      <td>75</td>\n",
       "      <td>47</td>\n",
       "      <td>74</td>\n",
       "      <td>20</td>\n",
       "      <td>77</td>\n",
       "      <td>58</td>\n",
       "      <td>30</td>\n",
       "      <td>49</td>\n",
       "      <td>24</td>\n",
       "      <td>...</td>\n",
       "      <td>36</td>\n",
       "      <td>96</td>\n",
       "      <td>73</td>\n",
       "      <td>36</td>\n",
       "      <td>18</td>\n",
       "      <td>92</td>\n",
       "      <td>9</td>\n",
       "      <td>69</td>\n",
       "      <td>23</td>\n",
       "      <td>15</td>\n",
       "    </tr>\n",
       "    <tr>\n",
       "      <th>26</th>\n",
       "      <td>81</td>\n",
       "      <td>78</td>\n",
       "      <td>56</td>\n",
       "      <td>87</td>\n",
       "      <td>23</td>\n",
       "      <td>76</td>\n",
       "      <td>65</td>\n",
       "      <td>72</td>\n",
       "      <td>38</td>\n",
       "      <td>76</td>\n",
       "      <td>...</td>\n",
       "      <td>57</td>\n",
       "      <td>50</td>\n",
       "      <td>85</td>\n",
       "      <td>90</td>\n",
       "      <td>36</td>\n",
       "      <td>29</td>\n",
       "      <td>92</td>\n",
       "      <td>48</td>\n",
       "      <td>12</td>\n",
       "      <td>84</td>\n",
       "    </tr>\n",
       "    <tr>\n",
       "      <th>27</th>\n",
       "      <td>40</td>\n",
       "      <td>92</td>\n",
       "      <td>82</td>\n",
       "      <td>52</td>\n",
       "      <td>1</td>\n",
       "      <td>53</td>\n",
       "      <td>65</td>\n",
       "      <td>59</td>\n",
       "      <td>14</td>\n",
       "      <td>46</td>\n",
       "      <td>...</td>\n",
       "      <td>30</td>\n",
       "      <td>91</td>\n",
       "      <td>21</td>\n",
       "      <td>76</td>\n",
       "      <td>51</td>\n",
       "      <td>51</td>\n",
       "      <td>37</td>\n",
       "      <td>47</td>\n",
       "      <td>34</td>\n",
       "      <td>70</td>\n",
       "    </tr>\n",
       "    <tr>\n",
       "      <th>28</th>\n",
       "      <td>88</td>\n",
       "      <td>43</td>\n",
       "      <td>30</td>\n",
       "      <td>83</td>\n",
       "      <td>35</td>\n",
       "      <td>63</td>\n",
       "      <td>76</td>\n",
       "      <td>9</td>\n",
       "      <td>71</td>\n",
       "      <td>27</td>\n",
       "      <td>...</td>\n",
       "      <td>14</td>\n",
       "      <td>83</td>\n",
       "      <td>57</td>\n",
       "      <td>94</td>\n",
       "      <td>4</td>\n",
       "      <td>28</td>\n",
       "      <td>2</td>\n",
       "      <td>84</td>\n",
       "      <td>12</td>\n",
       "      <td>62</td>\n",
       "    </tr>\n",
       "    <tr>\n",
       "      <th>29</th>\n",
       "      <td>27</td>\n",
       "      <td>8</td>\n",
       "      <td>14</td>\n",
       "      <td>48</td>\n",
       "      <td>60</td>\n",
       "      <td>71</td>\n",
       "      <td>31</td>\n",
       "      <td>33</td>\n",
       "      <td>48</td>\n",
       "      <td>0</td>\n",
       "      <td>...</td>\n",
       "      <td>33</td>\n",
       "      <td>38</td>\n",
       "      <td>15</td>\n",
       "      <td>59</td>\n",
       "      <td>53</td>\n",
       "      <td>22</td>\n",
       "      <td>87</td>\n",
       "      <td>34</td>\n",
       "      <td>56</td>\n",
       "      <td>48</td>\n",
       "    </tr>\n",
       "    <tr>\n",
       "      <th>30</th>\n",
       "      <td>99</td>\n",
       "      <td>70</td>\n",
       "      <td>66</td>\n",
       "      <td>36</td>\n",
       "      <td>28</td>\n",
       "      <td>88</td>\n",
       "      <td>42</td>\n",
       "      <td>88</td>\n",
       "      <td>11</td>\n",
       "      <td>42</td>\n",
       "      <td>...</td>\n",
       "      <td>59</td>\n",
       "      <td>40</td>\n",
       "      <td>97</td>\n",
       "      <td>42</td>\n",
       "      <td>98</td>\n",
       "      <td>33</td>\n",
       "      <td>63</td>\n",
       "      <td>36</td>\n",
       "      <td>61</td>\n",
       "      <td>50</td>\n",
       "    </tr>\n",
       "    <tr>\n",
       "      <th>31</th>\n",
       "      <td>2</td>\n",
       "      <td>70</td>\n",
       "      <td>19</td>\n",
       "      <td>24</td>\n",
       "      <td>60</td>\n",
       "      <td>80</td>\n",
       "      <td>79</td>\n",
       "      <td>43</td>\n",
       "      <td>39</td>\n",
       "      <td>8</td>\n",
       "      <td>...</td>\n",
       "      <td>68</td>\n",
       "      <td>78</td>\n",
       "      <td>63</td>\n",
       "      <td>22</td>\n",
       "      <td>75</td>\n",
       "      <td>72</td>\n",
       "      <td>51</td>\n",
       "      <td>71</td>\n",
       "      <td>59</td>\n",
       "      <td>32</td>\n",
       "    </tr>\n",
       "    <tr>\n",
       "      <th>32</th>\n",
       "      <td>71</td>\n",
       "      <td>18</td>\n",
       "      <td>38</td>\n",
       "      <td>38</td>\n",
       "      <td>23</td>\n",
       "      <td>50</td>\n",
       "      <td>45</td>\n",
       "      <td>16</td>\n",
       "      <td>23</td>\n",
       "      <td>71</td>\n",
       "      <td>...</td>\n",
       "      <td>49</td>\n",
       "      <td>94</td>\n",
       "      <td>62</td>\n",
       "      <td>16</td>\n",
       "      <td>79</td>\n",
       "      <td>99</td>\n",
       "      <td>57</td>\n",
       "      <td>17</td>\n",
       "      <td>85</td>\n",
       "      <td>61</td>\n",
       "    </tr>\n",
       "    <tr>\n",
       "      <th>33</th>\n",
       "      <td>49</td>\n",
       "      <td>78</td>\n",
       "      <td>35</td>\n",
       "      <td>12</td>\n",
       "      <td>72</td>\n",
       "      <td>1</td>\n",
       "      <td>85</td>\n",
       "      <td>75</td>\n",
       "      <td>49</td>\n",
       "      <td>21</td>\n",
       "      <td>...</td>\n",
       "      <td>33</td>\n",
       "      <td>78</td>\n",
       "      <td>6</td>\n",
       "      <td>34</td>\n",
       "      <td>8</td>\n",
       "      <td>73</td>\n",
       "      <td>19</td>\n",
       "      <td>35</td>\n",
       "      <td>84</td>\n",
       "      <td>14</td>\n",
       "    </tr>\n",
       "    <tr>\n",
       "      <th>34</th>\n",
       "      <td>84</td>\n",
       "      <td>93</td>\n",
       "      <td>9</td>\n",
       "      <td>94</td>\n",
       "      <td>77</td>\n",
       "      <td>54</td>\n",
       "      <td>26</td>\n",
       "      <td>57</td>\n",
       "      <td>98</td>\n",
       "      <td>66</td>\n",
       "      <td>...</td>\n",
       "      <td>96</td>\n",
       "      <td>12</td>\n",
       "      <td>20</td>\n",
       "      <td>23</td>\n",
       "      <td>79</td>\n",
       "      <td>15</td>\n",
       "      <td>52</td>\n",
       "      <td>81</td>\n",
       "      <td>21</td>\n",
       "      <td>31</td>\n",
       "    </tr>\n",
       "    <tr>\n",
       "      <th>35</th>\n",
       "      <td>31</td>\n",
       "      <td>91</td>\n",
       "      <td>9</td>\n",
       "      <td>9</td>\n",
       "      <td>64</td>\n",
       "      <td>18</td>\n",
       "      <td>44</td>\n",
       "      <td>86</td>\n",
       "      <td>45</td>\n",
       "      <td>52</td>\n",
       "      <td>...</td>\n",
       "      <td>20</td>\n",
       "      <td>16</td>\n",
       "      <td>0</td>\n",
       "      <td>58</td>\n",
       "      <td>51</td>\n",
       "      <td>0</td>\n",
       "      <td>74</td>\n",
       "      <td>43</td>\n",
       "      <td>18</td>\n",
       "      <td>91</td>\n",
       "    </tr>\n",
       "    <tr>\n",
       "      <th>36</th>\n",
       "      <td>21</td>\n",
       "      <td>52</td>\n",
       "      <td>18</td>\n",
       "      <td>75</td>\n",
       "      <td>88</td>\n",
       "      <td>96</td>\n",
       "      <td>91</td>\n",
       "      <td>55</td>\n",
       "      <td>82</td>\n",
       "      <td>36</td>\n",
       "      <td>...</td>\n",
       "      <td>91</td>\n",
       "      <td>82</td>\n",
       "      <td>90</td>\n",
       "      <td>86</td>\n",
       "      <td>3</td>\n",
       "      <td>73</td>\n",
       "      <td>76</td>\n",
       "      <td>62</td>\n",
       "      <td>39</td>\n",
       "      <td>94</td>\n",
       "    </tr>\n",
       "    <tr>\n",
       "      <th>37</th>\n",
       "      <td>14</td>\n",
       "      <td>4</td>\n",
       "      <td>49</td>\n",
       "      <td>90</td>\n",
       "      <td>25</td>\n",
       "      <td>44</td>\n",
       "      <td>43</td>\n",
       "      <td>31</td>\n",
       "      <td>48</td>\n",
       "      <td>89</td>\n",
       "      <td>...</td>\n",
       "      <td>94</td>\n",
       "      <td>68</td>\n",
       "      <td>6</td>\n",
       "      <td>78</td>\n",
       "      <td>40</td>\n",
       "      <td>61</td>\n",
       "      <td>81</td>\n",
       "      <td>87</td>\n",
       "      <td>60</td>\n",
       "      <td>0</td>\n",
       "    </tr>\n",
       "    <tr>\n",
       "      <th>38</th>\n",
       "      <td>9</td>\n",
       "      <td>62</td>\n",
       "      <td>97</td>\n",
       "      <td>18</td>\n",
       "      <td>27</td>\n",
       "      <td>30</td>\n",
       "      <td>77</td>\n",
       "      <td>38</td>\n",
       "      <td>50</td>\n",
       "      <td>8</td>\n",
       "      <td>...</td>\n",
       "      <td>55</td>\n",
       "      <td>3</td>\n",
       "      <td>68</td>\n",
       "      <td>75</td>\n",
       "      <td>41</td>\n",
       "      <td>48</td>\n",
       "      <td>60</td>\n",
       "      <td>85</td>\n",
       "      <td>23</td>\n",
       "      <td>52</td>\n",
       "    </tr>\n",
       "    <tr>\n",
       "      <th>39</th>\n",
       "      <td>59</td>\n",
       "      <td>30</td>\n",
       "      <td>87</td>\n",
       "      <td>85</td>\n",
       "      <td>7</td>\n",
       "      <td>99</td>\n",
       "      <td>55</td>\n",
       "      <td>69</td>\n",
       "      <td>42</td>\n",
       "      <td>33</td>\n",
       "      <td>...</td>\n",
       "      <td>58</td>\n",
       "      <td>14</td>\n",
       "      <td>6</td>\n",
       "      <td>12</td>\n",
       "      <td>56</td>\n",
       "      <td>1</td>\n",
       "      <td>27</td>\n",
       "      <td>24</td>\n",
       "      <td>63</td>\n",
       "      <td>75</td>\n",
       "    </tr>\n",
       "    <tr>\n",
       "      <th>40</th>\n",
       "      <td>59</td>\n",
       "      <td>73</td>\n",
       "      <td>15</td>\n",
       "      <td>63</td>\n",
       "      <td>9</td>\n",
       "      <td>44</td>\n",
       "      <td>12</td>\n",
       "      <td>88</td>\n",
       "      <td>26</td>\n",
       "      <td>67</td>\n",
       "      <td>...</td>\n",
       "      <td>18</td>\n",
       "      <td>33</td>\n",
       "      <td>88</td>\n",
       "      <td>46</td>\n",
       "      <td>10</td>\n",
       "      <td>54</td>\n",
       "      <td>95</td>\n",
       "      <td>17</td>\n",
       "      <td>48</td>\n",
       "      <td>19</td>\n",
       "    </tr>\n",
       "    <tr>\n",
       "      <th>41</th>\n",
       "      <td>98</td>\n",
       "      <td>26</td>\n",
       "      <td>29</td>\n",
       "      <td>77</td>\n",
       "      <td>17</td>\n",
       "      <td>96</td>\n",
       "      <td>55</td>\n",
       "      <td>7</td>\n",
       "      <td>88</td>\n",
       "      <td>54</td>\n",
       "      <td>...</td>\n",
       "      <td>0</td>\n",
       "      <td>17</td>\n",
       "      <td>70</td>\n",
       "      <td>89</td>\n",
       "      <td>10</td>\n",
       "      <td>35</td>\n",
       "      <td>90</td>\n",
       "      <td>0</td>\n",
       "      <td>56</td>\n",
       "      <td>27</td>\n",
       "    </tr>\n",
       "    <tr>\n",
       "      <th>42</th>\n",
       "      <td>44</td>\n",
       "      <td>97</td>\n",
       "      <td>37</td>\n",
       "      <td>12</td>\n",
       "      <td>30</td>\n",
       "      <td>28</td>\n",
       "      <td>85</td>\n",
       "      <td>44</td>\n",
       "      <td>95</td>\n",
       "      <td>81</td>\n",
       "      <td>...</td>\n",
       "      <td>93</td>\n",
       "      <td>77</td>\n",
       "      <td>55</td>\n",
       "      <td>90</td>\n",
       "      <td>72</td>\n",
       "      <td>20</td>\n",
       "      <td>10</td>\n",
       "      <td>45</td>\n",
       "      <td>26</td>\n",
       "      <td>32</td>\n",
       "    </tr>\n",
       "    <tr>\n",
       "      <th>43</th>\n",
       "      <td>33</td>\n",
       "      <td>89</td>\n",
       "      <td>67</td>\n",
       "      <td>83</td>\n",
       "      <td>93</td>\n",
       "      <td>83</td>\n",
       "      <td>50</td>\n",
       "      <td>69</td>\n",
       "      <td>95</td>\n",
       "      <td>75</td>\n",
       "      <td>...</td>\n",
       "      <td>75</td>\n",
       "      <td>77</td>\n",
       "      <td>44</td>\n",
       "      <td>10</td>\n",
       "      <td>49</td>\n",
       "      <td>55</td>\n",
       "      <td>86</td>\n",
       "      <td>55</td>\n",
       "      <td>10</td>\n",
       "      <td>46</td>\n",
       "    </tr>\n",
       "    <tr>\n",
       "      <th>44</th>\n",
       "      <td>95</td>\n",
       "      <td>38</td>\n",
       "      <td>80</td>\n",
       "      <td>41</td>\n",
       "      <td>41</td>\n",
       "      <td>46</td>\n",
       "      <td>80</td>\n",
       "      <td>64</td>\n",
       "      <td>20</td>\n",
       "      <td>95</td>\n",
       "      <td>...</td>\n",
       "      <td>43</td>\n",
       "      <td>70</td>\n",
       "      <td>23</td>\n",
       "      <td>41</td>\n",
       "      <td>32</td>\n",
       "      <td>4</td>\n",
       "      <td>80</td>\n",
       "      <td>5</td>\n",
       "      <td>76</td>\n",
       "      <td>87</td>\n",
       "    </tr>\n",
       "    <tr>\n",
       "      <th>45</th>\n",
       "      <td>10</td>\n",
       "      <td>72</td>\n",
       "      <td>99</td>\n",
       "      <td>81</td>\n",
       "      <td>29</td>\n",
       "      <td>64</td>\n",
       "      <td>50</td>\n",
       "      <td>41</td>\n",
       "      <td>87</td>\n",
       "      <td>81</td>\n",
       "      <td>...</td>\n",
       "      <td>79</td>\n",
       "      <td>82</td>\n",
       "      <td>26</td>\n",
       "      <td>30</td>\n",
       "      <td>91</td>\n",
       "      <td>40</td>\n",
       "      <td>37</td>\n",
       "      <td>69</td>\n",
       "      <td>29</td>\n",
       "      <td>92</td>\n",
       "    </tr>\n",
       "    <tr>\n",
       "      <th>46</th>\n",
       "      <td>10</td>\n",
       "      <td>8</td>\n",
       "      <td>88</td>\n",
       "      <td>75</td>\n",
       "      <td>92</td>\n",
       "      <td>78</td>\n",
       "      <td>79</td>\n",
       "      <td>9</td>\n",
       "      <td>40</td>\n",
       "      <td>72</td>\n",
       "      <td>...</td>\n",
       "      <td>60</td>\n",
       "      <td>90</td>\n",
       "      <td>97</td>\n",
       "      <td>94</td>\n",
       "      <td>34</td>\n",
       "      <td>20</td>\n",
       "      <td>19</td>\n",
       "      <td>86</td>\n",
       "      <td>52</td>\n",
       "      <td>46</td>\n",
       "    </tr>\n",
       "    <tr>\n",
       "      <th>47</th>\n",
       "      <td>41</td>\n",
       "      <td>10</td>\n",
       "      <td>42</td>\n",
       "      <td>30</td>\n",
       "      <td>50</td>\n",
       "      <td>6</td>\n",
       "      <td>25</td>\n",
       "      <td>72</td>\n",
       "      <td>13</td>\n",
       "      <td>84</td>\n",
       "      <td>...</td>\n",
       "      <td>15</td>\n",
       "      <td>26</td>\n",
       "      <td>49</td>\n",
       "      <td>17</td>\n",
       "      <td>62</td>\n",
       "      <td>41</td>\n",
       "      <td>6</td>\n",
       "      <td>99</td>\n",
       "      <td>35</td>\n",
       "      <td>1</td>\n",
       "    </tr>\n",
       "    <tr>\n",
       "      <th>48</th>\n",
       "      <td>75</td>\n",
       "      <td>89</td>\n",
       "      <td>44</td>\n",
       "      <td>76</td>\n",
       "      <td>9</td>\n",
       "      <td>20</td>\n",
       "      <td>82</td>\n",
       "      <td>22</td>\n",
       "      <td>16</td>\n",
       "      <td>19</td>\n",
       "      <td>...</td>\n",
       "      <td>14</td>\n",
       "      <td>21</td>\n",
       "      <td>49</td>\n",
       "      <td>80</td>\n",
       "      <td>83</td>\n",
       "      <td>5</td>\n",
       "      <td>19</td>\n",
       "      <td>16</td>\n",
       "      <td>27</td>\n",
       "      <td>35</td>\n",
       "    </tr>\n",
       "    <tr>\n",
       "      <th>49</th>\n",
       "      <td>55</td>\n",
       "      <td>61</td>\n",
       "      <td>8</td>\n",
       "      <td>5</td>\n",
       "      <td>48</td>\n",
       "      <td>88</td>\n",
       "      <td>90</td>\n",
       "      <td>32</td>\n",
       "      <td>38</td>\n",
       "      <td>24</td>\n",
       "      <td>...</td>\n",
       "      <td>2</td>\n",
       "      <td>99</td>\n",
       "      <td>6</td>\n",
       "      <td>33</td>\n",
       "      <td>37</td>\n",
       "      <td>3</td>\n",
       "      <td>89</td>\n",
       "      <td>73</td>\n",
       "      <td>84</td>\n",
       "      <td>52</td>\n",
       "    </tr>\n",
       "  </tbody>\n",
       "</table>\n",
       "<p>50 rows × 50 columns</p>\n",
       "</div>"
      ],
      "text/plain": [
       "    0   1   2   3   4   5   6   7   8   9   ...  40  41  42  43  44  45  46  \\\n",
       "0   87  17  79  90  81  11  27  37  21  40  ...  98  30  41  40  73  18  84   \n",
       "1   47  58  98  83  75  89  19  89  75  63  ...  77  41  30  78  84  41   9   \n",
       "2   52  79  92  73  66  98  37  40  23  38  ...  56  40  87  59  81  53  82   \n",
       "3   80   2  35  63  26   8  69  35  70  28  ...  82  98  90  36  33  96   8   \n",
       "4   45  76  40  70  84  26  95   3  30  25  ...  85  93  75  71  57  90  44   \n",
       "5   51  99  52  27  58   1  52  33  86  65  ...  85  97  88  82  72  65  25   \n",
       "6   12  29  16  97  43   1  59  63  79  82  ...  23   8  45  60  51  53  74   \n",
       "7   48  64  52  56  74  45  40  11  80  12  ...   2  73  81  11  56  50  34   \n",
       "8   20  28  51  10  45  54  99  54  35  71  ...  97  83  92  35  12  66  95   \n",
       "9    5  77  24  44  97  38  70  92  21  20  ...  90  86  75  19  86  22  25   \n",
       "10  99  58  76  41  19  25  49   0  32  52  ...  52  95  67  60  80   5  81   \n",
       "11  49  81  38  44  90  17   9  45  70  98  ...  65  36  38  98  74  96  98   \n",
       "12  86  24  95  97  68  39   1  79  44  75  ...  37  10  13  38  80  28  81   \n",
       "13  89  93  41  88  75  60  87  45  60  57  ...  84  58  44  93  39   6  26   \n",
       "14   5  28  21  14  15  27   2  90   4   0  ...  47   1  76  97  54  50  80   \n",
       "15   6  70  17  22   7  68  32  68  99  54  ...  50  48   1  37  69  11  55   \n",
       "16   5   7  34  34  35   7  66  98  42  60  ...  54  26  12  72   9  42  58   \n",
       "17  95  87  33  44   4  73  19  11  82  87  ...   0  87   9  54  41  53  64   \n",
       "18  41  11  68  57  78  22  36  66  91  18  ...  95  25  41  85  49  57  41   \n",
       "19  84  95  26   9  98   5  85  26  41  75  ...  55  27  73  30  64  52   4   \n",
       "20  99  27  59  34  28  83  89   9  91  28  ...  17  95  75  62  11  69  57   \n",
       "21  90  89  31  22  75  39  83   3  16  21  ...  19   2   9  67  78  53  27   \n",
       "22  64  24  37  70  45  51  36  38   2  40  ...   5  66  64  50  51  74  80   \n",
       "23  39  63   5  85  39  67  20  95  21  18  ...  84  36  68  14   1  48  88   \n",
       "24  21  33  93  49  47  32  57  62  35  19  ...  86  41  50  89  67  72  51   \n",
       "25  66  75  47  74  20  77  58  30  49  24  ...  36  96  73  36  18  92   9   \n",
       "26  81  78  56  87  23  76  65  72  38  76  ...  57  50  85  90  36  29  92   \n",
       "27  40  92  82  52   1  53  65  59  14  46  ...  30  91  21  76  51  51  37   \n",
       "28  88  43  30  83  35  63  76   9  71  27  ...  14  83  57  94   4  28   2   \n",
       "29  27   8  14  48  60  71  31  33  48   0  ...  33  38  15  59  53  22  87   \n",
       "30  99  70  66  36  28  88  42  88  11  42  ...  59  40  97  42  98  33  63   \n",
       "31   2  70  19  24  60  80  79  43  39   8  ...  68  78  63  22  75  72  51   \n",
       "32  71  18  38  38  23  50  45  16  23  71  ...  49  94  62  16  79  99  57   \n",
       "33  49  78  35  12  72   1  85  75  49  21  ...  33  78   6  34   8  73  19   \n",
       "34  84  93   9  94  77  54  26  57  98  66  ...  96  12  20  23  79  15  52   \n",
       "35  31  91   9   9  64  18  44  86  45  52  ...  20  16   0  58  51   0  74   \n",
       "36  21  52  18  75  88  96  91  55  82  36  ...  91  82  90  86   3  73  76   \n",
       "37  14   4  49  90  25  44  43  31  48  89  ...  94  68   6  78  40  61  81   \n",
       "38   9  62  97  18  27  30  77  38  50   8  ...  55   3  68  75  41  48  60   \n",
       "39  59  30  87  85   7  99  55  69  42  33  ...  58  14   6  12  56   1  27   \n",
       "40  59  73  15  63   9  44  12  88  26  67  ...  18  33  88  46  10  54  95   \n",
       "41  98  26  29  77  17  96  55   7  88  54  ...   0  17  70  89  10  35  90   \n",
       "42  44  97  37  12  30  28  85  44  95  81  ...  93  77  55  90  72  20  10   \n",
       "43  33  89  67  83  93  83  50  69  95  75  ...  75  77  44  10  49  55  86   \n",
       "44  95  38  80  41  41  46  80  64  20  95  ...  43  70  23  41  32   4  80   \n",
       "45  10  72  99  81  29  64  50  41  87  81  ...  79  82  26  30  91  40  37   \n",
       "46  10   8  88  75  92  78  79   9  40  72  ...  60  90  97  94  34  20  19   \n",
       "47  41  10  42  30  50   6  25  72  13  84  ...  15  26  49  17  62  41   6   \n",
       "48  75  89  44  76   9  20  82  22  16  19  ...  14  21  49  80  83   5  19   \n",
       "49  55  61   8   5  48  88  90  32  38  24  ...   2  99   6  33  37   3  89   \n",
       "\n",
       "    47  48  49  \n",
       "0   97  79  63  \n",
       "1   41  17  62  \n",
       "2    3  74  80  \n",
       "3    5  58  44  \n",
       "4   81  99  19  \n",
       "5    5  82  53  \n",
       "6   55  24  83  \n",
       "7   93  93  22  \n",
       "8   70  39  81  \n",
       "9   85  72   1  \n",
       "10  97  69  77  \n",
       "11  22  17  60  \n",
       "12  78  12  69  \n",
       "13   5  73  74  \n",
       "14  52  80  10  \n",
       "15  30  12   5  \n",
       "16   9  22  79  \n",
       "17  11  27  84  \n",
       "18  83  87  41  \n",
       "19  66  12  39  \n",
       "20  93  73  87  \n",
       "21  63  69  19  \n",
       "22  27  81  10  \n",
       "23  42  23  68  \n",
       "24  37  17  76  \n",
       "25  69  23  15  \n",
       "26  48  12  84  \n",
       "27  47  34  70  \n",
       "28  84  12  62  \n",
       "29  34  56  48  \n",
       "30  36  61  50  \n",
       "31  71  59  32  \n",
       "32  17  85  61  \n",
       "33  35  84  14  \n",
       "34  81  21  31  \n",
       "35  43  18  91  \n",
       "36  62  39  94  \n",
       "37  87  60   0  \n",
       "38  85  23  52  \n",
       "39  24  63  75  \n",
       "40  17  48  19  \n",
       "41   0  56  27  \n",
       "42  45  26  32  \n",
       "43  55  10  46  \n",
       "44   5  76  87  \n",
       "45  69  29  92  \n",
       "46  86  52  46  \n",
       "47  99  35   1  \n",
       "48  16  27  35  \n",
       "49  73  84  52  \n",
       "\n",
       "[50 rows x 50 columns]"
      ]
     },
     "execution_count": 72,
     "metadata": {},
     "output_type": "execute_result"
    }
   ],
   "source": [
    "df"
   ]
  },
  {
   "cell_type": "code",
   "execution_count": 74,
   "metadata": {},
   "outputs": [
    {
     "data": {
      "text/plain": [
       "<Axes: >"
      ]
     },
     "execution_count": 74,
     "metadata": {},
     "output_type": "execute_result"
    },
    {
     "data": {
      "image/png": "[encoded data removed]",
      "text/plain": [
       "<Figure size 640x480 with 1 Axes>"
      ]
     },
     "metadata": {},
     "output_type": "display_data"
    }
   ],
   "source": [
    "df.plot()"
   ]
  },
  {
   "cell_type": "code",
   "execution_count": 75,
   "metadata": {},
   "outputs": [
    {
     "data": {
      "text/plain": [
       "2"
      ]
     },
     "execution_count": 75,
     "metadata": {},
     "output_type": "execute_result"
    }
   ],
   "source": [
    "sample.ndim"
   ]
  },
  {
   "cell_type": "code",
   "execution_count": 76,
   "metadata": {},
   "outputs": [
    {
     "data": {
      "text/plain": [
       "(50, 50)"
      ]
     },
     "execution_count": 76,
     "metadata": {},
     "output_type": "execute_result"
    }
   ],
   "source": [
    "sample.shape"
   ]
  },
  {
   "cell_type": "markdown",
   "metadata": {},
   "source": [
    "## Making the random number "
   ]
  },
  {
   "cell_type": "code",
   "execution_count": 79,
   "metadata": {},
   "outputs": [],
   "source": [
    "sample2=np.random.random((5,3))"
   ]
  },
  {
   "cell_type": "code",
   "execution_count": 80,
   "metadata": {},
   "outputs": [
    {
     "data": {
      "text/plain": [
       "array([[0.63180623, 0.18304307, 0.58193072],\n",
       "       [0.99581815, 0.84662206, 0.45709522],\n",
       "       [0.12501499, 0.02795493, 0.92175049],\n",
       "       [0.41990695, 0.85233736, 0.99376784],\n",
       "       [0.75256622, 0.07102536, 0.99914833]])"
      ]
     },
     "execution_count": 80,
     "metadata": {},
     "output_type": "execute_result"
    }
   ],
   "source": [
    "sample2"
   ]
  },
  {
   "cell_type": "code",
   "execution_count": 81,
   "metadata": {},
   "outputs": [],
   "source": [
    "sample3=np.random.rand(5,3)"
   ]
  },
  {
   "cell_type": "code",
   "execution_count": 82,
   "metadata": {},
   "outputs": [
    {
     "data": {
      "text/plain": [
       "array([[0.79807532, 0.23029746, 0.32587177],\n",
       "       [0.15857473, 0.04496796, 0.36860397],\n",
       "       [0.9009244 , 0.87844981, 0.75047384],\n",
       "       [0.27512164, 0.03683721, 0.99264904],\n",
       "       [0.39084042, 0.67072422, 0.37606886]])"
      ]
     },
     "execution_count": 82,
     "metadata": {},
     "output_type": "execute_result"
    }
   ],
   "source": [
    "sample3"
   ]
  },
  {
   "cell_type": "code",
   "execution_count": 83,
   "metadata": {},
   "outputs": [],
   "source": [
    "sample4=np.random.randint(10,size=(5,3))"
   ]
  },
  {
   "cell_type": "code",
   "execution_count": 84,
   "metadata": {},
   "outputs": [
    {
     "data": {
      "text/plain": [
       "array([[2, 2, 5],\n",
       "       [2, 0, 5],\n",
       "       [6, 9, 7],\n",
       "       [9, 9, 6],\n",
       "       [5, 8, 7]])"
      ]
     },
     "execution_count": 84,
     "metadata": {},
     "output_type": "execute_result"
    }
   ],
   "source": [
    "sample4"
   ]
  },
  {
   "cell_type": "code",
   "execution_count": 85,
   "metadata": {},
   "outputs": [],
   "source": [
    "np.random.seed(7)"
   ]
  },
  {
   "cell_type": "code",
   "execution_count": 89,
   "metadata": {},
   "outputs": [],
   "source": [
    "sample5=np.random.random((5,3))"
   ]
  },
  {
   "cell_type": "code",
   "execution_count": 90,
   "metadata": {},
   "outputs": [
    {
     "data": {
      "text/plain": [
       "array([[0.20484909, 0.49076589, 0.37238469],\n",
       "       [0.47740115, 0.36589039, 0.83791799],\n",
       "       [0.76864751, 0.31399468, 0.57262533],\n",
       "       [0.27604905, 0.45284293, 0.35297837],\n",
       "       [0.65739946, 0.37035108, 0.45909298]])"
      ]
     },
     "execution_count": 90,
     "metadata": {},
     "output_type": "execute_result"
    }
   ],
   "source": [
    "sample5"
   ]
  },
  {
   "cell_type": "code",
   "execution_count": 91,
   "metadata": {},
   "outputs": [
    {
     "data": {
      "text/plain": [
       "array([[2, 2, 5],\n",
       "       [2, 0, 5],\n",
       "       [6, 9, 7],\n",
       "       [9, 9, 6],\n",
       "       [5, 8, 7]])"
      ]
     },
     "execution_count": 91,
     "metadata": {},
     "output_type": "execute_result"
    }
   ],
   "source": [
    "sample4"
   ]
  },
  {
   "cell_type": "markdown",
   "metadata": {},
   "source": [
    "## 3. viewing and matrices"
   ]
  },
  {
   "cell_type": "code",
   "execution_count": 93,
   "metadata": {},
   "outputs": [
    {
     "data": {
      "text/plain": [
       "array([0.03683721, 0.04496796, 0.15857473, 0.23029746, 0.27512164,\n",
       "       0.32587177, 0.36860397, 0.37606886, 0.39084042, 0.67072422,\n",
       "       0.75047384, 0.79807532, 0.87844981, 0.9009244 , 0.99264904])"
      ]
     },
     "execution_count": 93,
     "metadata": {},
     "output_type": "execute_result"
    }
   ],
   "source": [
    "np.unique(sample3)"
   ]
  },
  {
   "cell_type": "code",
   "execution_count": 94,
   "metadata": {},
   "outputs": [
    {
     "data": {
      "text/plain": [
       "array([0, 2, 5, 6, 7, 8, 9])"
      ]
     },
     "execution_count": 94,
     "metadata": {},
     "output_type": "execute_result"
    }
   ],
   "source": [
    "np.unique(sample4)"
   ]
  },
  {
   "cell_type": "code",
   "execution_count": 95,
   "metadata": {},
   "outputs": [
    {
     "data": {
      "text/plain": [
       "array([1, 2, 3])"
      ]
     },
     "execution_count": 95,
     "metadata": {},
     "output_type": "execute_result"
    }
   ],
   "source": [
    "a1"
   ]
  },
  {
   "cell_type": "code",
   "execution_count": 96,
   "metadata": {},
   "outputs": [
    {
     "data": {
      "text/plain": [
       "array([[1. , 2.2, 3. ],\n",
       "       [4. , 5. , 6. ]])"
      ]
     },
     "execution_count": 96,
     "metadata": {},
     "output_type": "execute_result"
    }
   ],
   "source": [
    "a2"
   ]
  },
  {
   "cell_type": "code",
   "execution_count": 97,
   "metadata": {},
   "outputs": [
    {
     "data": {
      "text/plain": [
       "array([[[ 1,  2,  3],\n",
       "        [ 4,  5,  6],\n",
       "        [ 7,  8,  9]],\n",
       "\n",
       "       [[10, 11, 12],\n",
       "        [13, 14, 15],\n",
       "        [16, 17, 18]]])"
      ]
     },
     "execution_count": 97,
     "metadata": {},
     "output_type": "execute_result"
    }
   ],
   "source": [
    "a3"
   ]
  },
  {
   "cell_type": "code",
   "execution_count": 98,
   "metadata": {},
   "outputs": [
    {
     "data": {
      "text/plain": [
       "1"
      ]
     },
     "execution_count": 98,
     "metadata": {},
     "output_type": "execute_result"
    }
   ],
   "source": [
    "a1[0]"
   ]
  },
  {
   "cell_type": "code",
   "execution_count": 99,
   "metadata": {},
   "outputs": [
    {
     "data": {
      "text/plain": [
       "array([1. , 2.2, 3. ])"
      ]
     },
     "execution_count": 99,
     "metadata": {},
     "output_type": "execute_result"
    }
   ],
   "source": [
    "a2[0]"
   ]
  },
  {
   "cell_type": "code",
   "execution_count": 100,
   "metadata": {},
   "outputs": [
    {
     "data": {
      "text/plain": [
       "array([[1, 2, 3],\n",
       "       [4, 5, 6],\n",
       "       [7, 8, 9]])"
      ]
     },
     "execution_count": 100,
     "metadata": {},
     "output_type": "execute_result"
    }
   ],
   "source": [
    "a3[0]"
   ]
  },
  {
   "cell_type": "code",
   "execution_count": 101,
   "metadata": {},
   "outputs": [
    {
     "data": {
      "text/plain": [
       "array([4, 5, 6])"
      ]
     },
     "execution_count": 101,
     "metadata": {},
     "output_type": "execute_result"
    }
   ],
   "source": [
    "a3[0][1]"
   ]
  },
  {
   "cell_type": "code",
   "execution_count": 102,
   "metadata": {},
   "outputs": [
    {
     "data": {
      "text/plain": [
       "array([13, 14, 15])"
      ]
     },
     "execution_count": 102,
     "metadata": {},
     "output_type": "execute_result"
    }
   ],
   "source": [
    "a3[1][1]"
   ]
  },
  {
   "cell_type": "code",
   "execution_count": 103,
   "metadata": {},
   "outputs": [
    {
     "data": {
      "text/plain": [
       "(2, 3, 3)"
      ]
     },
     "execution_count": 103,
     "metadata": {},
     "output_type": "execute_result"
    }
   ],
   "source": [
    "a3.shape"
   ]
  },
  {
   "cell_type": "code",
   "execution_count": 104,
   "metadata": {},
   "outputs": [
    {
     "data": {
      "text/plain": [
       "array([[[ 1,  2],\n",
       "        [ 4,  5]],\n",
       "\n",
       "       [[10, 11],\n",
       "        [13, 14]]])"
      ]
     },
     "execution_count": 104,
     "metadata": {},
     "output_type": "execute_result"
    }
   ],
   "source": [
    "a3[:2,:2,:2]"
   ]
  },
  {
   "cell_type": "code",
   "execution_count": 105,
   "metadata": {},
   "outputs": [],
   "source": [
    "a4=np.random.randint(10,size=(2,3,4,5))"
   ]
  },
  {
   "cell_type": "code",
   "execution_count": 106,
   "metadata": {},
   "outputs": [
    {
     "data": {
      "text/plain": [
       "array([[[[1, 9, 5, 9, 1],\n",
       "         [2, 3, 2, 2, 5],\n",
       "         [7, 3, 0, 9, 9],\n",
       "         [3, 4, 5, 3, 0]],\n",
       "\n",
       "        [[4, 8, 6, 7, 2],\n",
       "         [7, 3, 8, 6, 6],\n",
       "         [5, 6, 5, 7, 1],\n",
       "         [5, 4, 4, 9, 9]],\n",
       "\n",
       "        [[0, 6, 2, 6, 8],\n",
       "         [2, 4, 1, 6, 1],\n",
       "         [5, 1, 6, 9, 8],\n",
       "         [6, 5, 9, 7, 5]]],\n",
       "\n",
       "\n",
       "       [[[4, 9, 6, 8, 1],\n",
       "         [5, 5, 8, 3, 7],\n",
       "         [7, 9, 4, 7, 5],\n",
       "         [9, 6, 2, 0, 5]],\n",
       "\n",
       "        [[3, 0, 5, 7, 1],\n",
       "         [8, 4, 9, 0, 2],\n",
       "         [0, 7, 6, 2, 9],\n",
       "         [9, 5, 1, 0, 0]],\n",
       "\n",
       "        [[9, 1, 1, 5, 3],\n",
       "         [2, 0, 4, 8, 7],\n",
       "         [1, 4, 9, 3, 6],\n",
       "         [7, 1, 0, 2, 7]]]])"
      ]
     },
     "execution_count": 106,
     "metadata": {},
     "output_type": "execute_result"
    }
   ],
   "source": [
    "a4"
   ]
  },
  {
   "cell_type": "code",
   "execution_count": 107,
   "metadata": {},
   "outputs": [
    {
     "data": {
      "text/plain": [
       "4"
      ]
     },
     "execution_count": 107,
     "metadata": {},
     "output_type": "execute_result"
    }
   ],
   "source": [
    "a4.ndim"
   ]
  },
  {
   "cell_type": "code",
   "execution_count": 108,
   "metadata": {},
   "outputs": [
    {
     "data": {
      "text/plain": [
       "(2, 3, 4, 5)"
      ]
     },
     "execution_count": 108,
     "metadata": {},
     "output_type": "execute_result"
    }
   ],
   "source": [
    "a4.shape"
   ]
  },
  {
   "cell_type": "code",
   "execution_count": 109,
   "metadata": {},
   "outputs": [
    {
     "data": {
      "text/plain": [
       "array([[[[1],\n",
       "         [2],\n",
       "         [7],\n",
       "         [3]],\n",
       "\n",
       "        [[4],\n",
       "         [7],\n",
       "         [5],\n",
       "         [5]],\n",
       "\n",
       "        [[0],\n",
       "         [2],\n",
       "         [5],\n",
       "         [6]]],\n",
       "\n",
       "\n",
       "       [[[4],\n",
       "         [5],\n",
       "         [7],\n",
       "         [9]],\n",
       "\n",
       "        [[3],\n",
       "         [8],\n",
       "         [0],\n",
       "         [9]],\n",
       "\n",
       "        [[9],\n",
       "         [2],\n",
       "         [1],\n",
       "         [7]]]])"
      ]
     },
     "execution_count": 109,
     "metadata": {},
     "output_type": "execute_result"
    }
   ],
   "source": [
    "a4[:,:,:,:1]"
   ]
  },
  {
   "cell_type": "markdown",
   "metadata": {},
   "source": [
    "## 4.Manipulating and comparing arrays"
   ]
  },
  {
   "cell_type": "markdown",
   "metadata": {},
   "source": [
    "#### Arithmetic"
   ]
  },
  {
   "cell_type": "code",
   "execution_count": 110,
   "metadata": {},
   "outputs": [
    {
     "data": {
      "text/plain": [
       "array([1, 2, 3])"
      ]
     },
     "execution_count": 110,
     "metadata": {},
     "output_type": "execute_result"
    }
   ],
   "source": [
    "a1"
   ]
  },
  {
   "cell_type": "code",
   "execution_count": 111,
   "metadata": {},
   "outputs": [],
   "source": [
    "ones=np.ones(3)"
   ]
  },
  {
   "cell_type": "code",
   "execution_count": 112,
   "metadata": {},
   "outputs": [
    {
     "data": {
      "text/plain": [
       "array([1., 1., 1.])"
      ]
     },
     "execution_count": 112,
     "metadata": {},
     "output_type": "execute_result"
    }
   ],
   "source": [
    "ones"
   ]
  },
  {
   "cell_type": "code",
   "execution_count": 113,
   "metadata": {},
   "outputs": [
    {
     "data": {
      "text/plain": [
       "array([2., 3., 4.])"
      ]
     },
     "execution_count": 113,
     "metadata": {},
     "output_type": "execute_result"
    }
   ],
   "source": [
    "a1+ones"
   ]
  },
  {
   "cell_type": "code",
   "execution_count": 114,
   "metadata": {},
   "outputs": [
    {
     "data": {
      "text/plain": [
       "array([0., 1., 2.])"
      ]
     },
     "execution_count": 114,
     "metadata": {},
     "output_type": "execute_result"
    }
   ],
   "source": [
    "a1-ones"
   ]
  },
  {
   "cell_type": "code",
   "execution_count": 115,
   "metadata": {},
   "outputs": [
    {
     "data": {
      "text/plain": [
       "array([1., 2., 3.])"
      ]
     },
     "execution_count": 115,
     "metadata": {},
     "output_type": "execute_result"
    }
   ],
   "source": [
    "a1*ones"
   ]
  },
  {
   "cell_type": "code",
   "execution_count": 116,
   "metadata": {},
   "outputs": [],
   "source": [
    "# a1*ones will not go for the matrix multiplication but it will do the element to element multiplication"
   ]
  },
  {
   "cell_type": "code",
   "execution_count": 121,
   "metadata": {},
   "outputs": [
    {
     "data": {
      "text/plain": [
       "array([[2, 0, 3],\n",
       "       [9, 8, 3],\n",
       "       [7, 1, 0]])"
      ]
     },
     "execution_count": 121,
     "metadata": {},
     "output_type": "execute_result"
    }
   ],
   "source": [
    "n1=np.random.randint(0,10,size=(3,3))\n",
    "n1"
   ]
  },
  {
   "cell_type": "code",
   "execution_count": 120,
   "metadata": {},
   "outputs": [
    {
     "data": {
      "text/plain": [
       "array([[1, 1, 1],\n",
       "       [0, 0, 0],\n",
       "       [0, 1, 1]])"
      ]
     },
     "execution_count": 120,
     "metadata": {},
     "output_type": "execute_result"
    }
   ],
   "source": [
    "n2=np.random.randint(0,2,size=(3,3))\n",
    "n2"
   ]
  },
  {
   "cell_type": "code",
   "execution_count": 119,
   "metadata": {},
   "outputs": [
    {
     "data": {
      "text/plain": [
       "array([[0, 0, 0],\n",
       "       [0, 0, 0],\n",
       "       [5, 0, 0]])"
      ]
     },
     "execution_count": 119,
     "metadata": {},
     "output_type": "execute_result"
    }
   ],
   "source": [
    "n1*n2"
   ]
  },
  {
   "cell_type": "code",
   "execution_count": 122,
   "metadata": {},
   "outputs": [
    {
     "data": {
      "text/plain": [
       "array([1, 2, 3])"
      ]
     },
     "execution_count": 122,
     "metadata": {},
     "output_type": "execute_result"
    }
   ],
   "source": [
    "a1"
   ]
  },
  {
   "cell_type": "code",
   "execution_count": 123,
   "metadata": {},
   "outputs": [
    {
     "data": {
      "text/plain": [
       "array([[1. , 2.2, 3. ],\n",
       "       [4. , 5. , 6. ]])"
      ]
     },
     "execution_count": 123,
     "metadata": {},
     "output_type": "execute_result"
    }
   ],
   "source": [
    "a2"
   ]
  },
  {
   "cell_type": "code",
   "execution_count": 124,
   "metadata": {},
   "outputs": [
    {
     "data": {
      "text/plain": [
       "array([[ 1. ,  4.4,  9. ],\n",
       "       [ 4. , 10. , 18. ]])"
      ]
     },
     "execution_count": 124,
     "metadata": {},
     "output_type": "execute_result"
    }
   ],
   "source": [
    "a1*a2"
   ]
  },
  {
   "cell_type": "code",
   "execution_count": 125,
   "metadata": {},
   "outputs": [
    {
     "data": {
      "text/plain": [
       "array([1., 2., 3.])"
      ]
     },
     "execution_count": 125,
     "metadata": {},
     "output_type": "execute_result"
    }
   ],
   "source": [
    "a1/ones"
   ]
  },
  {
   "cell_type": "code",
   "execution_count": 126,
   "metadata": {},
   "outputs": [
    {
     "data": {
      "text/plain": [
       "array([[1. , 2.2, 3. ],\n",
       "       [4. , 5. , 6. ]])"
      ]
     },
     "execution_count": 126,
     "metadata": {},
     "output_type": "execute_result"
    }
   ],
   "source": [
    "a2/ones"
   ]
  },
  {
   "cell_type": "code",
   "execution_count": 127,
   "metadata": {},
   "outputs": [
    {
     "data": {
      "text/plain": [
       "array([[1., 1., 1.],\n",
       "       [4., 2., 2.]])"
      ]
     },
     "execution_count": 127,
     "metadata": {},
     "output_type": "execute_result"
    }
   ],
   "source": [
    "a2//a1"
   ]
  },
  {
   "cell_type": "code",
   "execution_count": 128,
   "metadata": {},
   "outputs": [],
   "source": [
    "# the above // was called as the floor division"
   ]
  },
  {
   "cell_type": "code",
   "execution_count": 129,
   "metadata": {},
   "outputs": [
    {
     "data": {
      "text/plain": [
       "array([1, 4, 9])"
      ]
     },
     "execution_count": 129,
     "metadata": {},
     "output_type": "execute_result"
    }
   ],
   "source": [
    "a1**2\n"
   ]
  },
  {
   "cell_type": "code",
   "execution_count": 130,
   "metadata": {},
   "outputs": [
    {
     "data": {
      "text/plain": [
       "array([[ 1.  ,  4.84,  9.  ],\n",
       "       [16.  , 25.  , 36.  ]])"
      ]
     },
     "execution_count": 130,
     "metadata": {},
     "output_type": "execute_result"
    }
   ],
   "source": [
    "a2**2"
   ]
  },
  {
   "cell_type": "code",
   "execution_count": 131,
   "metadata": {},
   "outputs": [
    {
     "data": {
      "text/plain": [
       "array([2., 3., 4.])"
      ]
     },
     "execution_count": 131,
     "metadata": {},
     "output_type": "execute_result"
    }
   ],
   "source": [
    "np.add(a1,ones)"
   ]
  },
  {
   "cell_type": "code",
   "execution_count": 132,
   "metadata": {},
   "outputs": [
    {
     "data": {
      "text/plain": [
       "array([1, 0, 1])"
      ]
     },
     "execution_count": 132,
     "metadata": {},
     "output_type": "execute_result"
    }
   ],
   "source": [
    "a1%2"
   ]
  },
  {
   "cell_type": "code",
   "execution_count": 133,
   "metadata": {},
   "outputs": [
    {
     "data": {
      "text/plain": [
       "array([0.5, 1. , 1.5])"
      ]
     },
     "execution_count": 133,
     "metadata": {},
     "output_type": "execute_result"
    }
   ],
   "source": [
    "a1/2"
   ]
  },
  {
   "cell_type": "code",
   "execution_count": 134,
   "metadata": {},
   "outputs": [
    {
     "data": {
      "text/plain": [
       "array([[1. , 0.2, 1. ],\n",
       "       [0. , 1. , 0. ]])"
      ]
     },
     "execution_count": 134,
     "metadata": {},
     "output_type": "execute_result"
    }
   ],
   "source": [
    "a2%2"
   ]
  },
  {
   "cell_type": "code",
   "execution_count": 136,
   "metadata": {},
   "outputs": [
    {
     "data": {
      "text/plain": [
       "array([ 2.71828183,  7.3890561 , 20.08553692])"
      ]
     },
     "execution_count": 136,
     "metadata": {},
     "output_type": "execute_result"
    }
   ],
   "source": [
    "# np.exp(arr) will return the exponential value of the array\n",
    "np.exp(a1)"
   ]
  },
  {
   "cell_type": "code",
   "execution_count": 137,
   "metadata": {},
   "outputs": [],
   "source": [
    "# np.log(arr) will return the log value of the array"
   ]
  },
  {
   "cell_type": "code",
   "execution_count": 138,
   "metadata": {},
   "outputs": [
    {
     "data": {
      "text/plain": [
       "array([0.        , 0.69314718, 1.09861229])"
      ]
     },
     "execution_count": 138,
     "metadata": {},
     "output_type": "execute_result"
    }
   ],
   "source": [
    "np.log(a1)"
   ]
  },
  {
   "cell_type": "code",
   "execution_count": 139,
   "metadata": {},
   "outputs": [
    {
     "data": {
      "text/plain": [
       "array([[0.        , 0.78845736, 1.09861229],\n",
       "       [1.38629436, 1.60943791, 1.79175947]])"
      ]
     },
     "execution_count": 139,
     "metadata": {},
     "output_type": "execute_result"
    }
   ],
   "source": [
    "np.log(a2)"
   ]
  },
  {
   "cell_type": "code",
   "execution_count": 140,
   "metadata": {},
   "outputs": [
    {
     "data": {
      "text/plain": [
       "array([[[0.        , 0.69314718, 1.09861229],\n",
       "        [1.38629436, 1.60943791, 1.79175947],\n",
       "        [1.94591015, 2.07944154, 2.19722458]],\n",
       "\n",
       "       [[2.30258509, 2.39789527, 2.48490665],\n",
       "        [2.56494936, 2.63905733, 2.7080502 ],\n",
       "        [2.77258872, 2.83321334, 2.89037176]]])"
      ]
     },
     "execution_count": 140,
     "metadata": {},
     "output_type": "execute_result"
    }
   ],
   "source": [
    "np.log(a3)"
   ]
  },
  {
   "cell_type": "markdown",
   "metadata": {},
   "source": [
    "## Aggregation"
   ]
  },
  {
   "cell_type": "markdown",
   "metadata": {},
   "source": [
    "#### Aggregation=pergorming the same operation on a number og things"
   ]
  },
  {
   "cell_type": "code",
   "execution_count": 141,
   "metadata": {},
   "outputs": [],
   "source": [
    "l=[1,2,3]"
   ]
  },
  {
   "cell_type": "code",
   "execution_count": 142,
   "metadata": {},
   "outputs": [
    {
     "data": {
      "text/plain": [
       "[1, 2, 3]"
      ]
     },
     "execution_count": 142,
     "metadata": {},
     "output_type": "execute_result"
    }
   ],
   "source": [
    "l"
   ]
  },
  {
   "cell_type": "code",
   "execution_count": 144,
   "metadata": {},
   "outputs": [
    {
     "data": {
      "text/plain": [
       "list"
      ]
     },
     "execution_count": 144,
     "metadata": {},
     "output_type": "execute_result"
    }
   ],
   "source": [
    "type(l)"
   ]
  },
  {
   "cell_type": "code",
   "execution_count": 145,
   "metadata": {},
   "outputs": [],
   "source": [
    "# to get the sum of the elements"
   ]
  },
  {
   "cell_type": "code",
   "execution_count": 146,
   "metadata": {},
   "outputs": [],
   "source": [
    "summ=sum(l)"
   ]
  },
  {
   "cell_type": "code",
   "execution_count": 147,
   "metadata": {},
   "outputs": [
    {
     "data": {
      "text/plain": [
       "6"
      ]
     },
     "execution_count": 147,
     "metadata": {},
     "output_type": "execute_result"
    }
   ],
   "source": [
    "summ"
   ]
  },
  {
   "cell_type": "code",
   "execution_count": 148,
   "metadata": {},
   "outputs": [],
   "source": [
    "# to calculate the sum of the numpy array"
   ]
  },
  {
   "cell_type": "code",
   "execution_count": 149,
   "metadata": {},
   "outputs": [
    {
     "data": {
      "text/plain": [
       "6"
      ]
     },
     "execution_count": 149,
     "metadata": {},
     "output_type": "execute_result"
    }
   ],
   "source": [
    "np.sum(a1)"
   ]
  },
  {
   "cell_type": "code",
   "execution_count": 150,
   "metadata": {},
   "outputs": [
    {
     "data": {
      "text/plain": [
       "21.2"
      ]
     },
     "execution_count": 150,
     "metadata": {},
     "output_type": "execute_result"
    }
   ],
   "source": [
    "np.sum(a2)"
   ]
  },
  {
   "cell_type": "code",
   "execution_count": 151,
   "metadata": {},
   "outputs": [
    {
     "data": {
      "text/plain": [
       "171"
      ]
     },
     "execution_count": 151,
     "metadata": {},
     "output_type": "execute_result"
    }
   ],
   "source": [
    "np.sum(a3)"
   ]
  },
  {
   "cell_type": "code",
   "execution_count": 152,
   "metadata": {},
   "outputs": [
    {
     "data": {
      "text/plain": [
       "6.0"
      ]
     },
     "execution_count": 152,
     "metadata": {},
     "output_type": "execute_result"
    }
   ],
   "source": [
    "np.max(a2)"
   ]
  },
  {
   "cell_type": "code",
   "execution_count": 154,
   "metadata": {},
   "outputs": [
    {
     "data": {
      "text/plain": [
       "3.533333333333333"
      ]
     },
     "execution_count": 154,
     "metadata": {},
     "output_type": "execute_result"
    }
   ],
   "source": [
    "np.average(a2)"
   ]
  },
  {
   "cell_type": "code",
   "execution_count": 158,
   "metadata": {},
   "outputs": [
    {
     "data": {
      "text/plain": [
       "1.679947089113887"
      ]
     },
     "execution_count": 158,
     "metadata": {},
     "output_type": "execute_result"
    }
   ],
   "source": [
    "np.std(a2)\n",
    "#standard deviation"
   ]
  },
  {
   "cell_type": "code",
   "execution_count": 159,
   "metadata": {},
   "outputs": [
    {
     "data": {
      "text/plain": [
       "2.8222222222222224"
      ]
     },
     "execution_count": 159,
     "metadata": {},
     "output_type": "execute_result"
    }
   ],
   "source": [
    "np.var(a2)\n",
    "#variance\n"
   ]
  },
  {
   "cell_type": "code",
   "execution_count": 160,
   "metadata": {},
   "outputs": [],
   "source": [
    "massive=np.random.random(100000)"
   ]
  },
  {
   "cell_type": "code",
   "execution_count": 161,
   "metadata": {},
   "outputs": [
    {
     "data": {
      "text/plain": [
       "array([0.3237989 , 0.73989292, 0.18257051, ..., 0.07116721, 0.26918858,\n",
       "       0.33731786])"
      ]
     },
     "execution_count": 161,
     "metadata": {},
     "output_type": "execute_result"
    }
   ],
   "source": [
    "massive"
   ]
  },
  {
   "cell_type": "code",
   "execution_count": 162,
   "metadata": {},
   "outputs": [
    {
     "data": {
      "text/plain": [
       "(100000,)"
      ]
     },
     "execution_count": 162,
     "metadata": {},
     "output_type": "execute_result"
    }
   ],
   "source": [
    "massive.shape"
   ]
  },
  {
   "cell_type": "code",
   "execution_count": 163,
   "metadata": {},
   "outputs": [
    {
     "data": {
      "text/plain": [
       "array([0.3237989 , 0.73989292, 0.18257051, 0.69602194, 0.52673506,\n",
       "       0.19849106, 0.65046402, 0.50977649, 0.68903717, 0.57342801])"
      ]
     },
     "execution_count": 163,
     "metadata": {},
     "output_type": "execute_result"
    }
   ],
   "source": [
    "massive[:10]"
   ]
  },
  {
   "cell_type": "code",
   "execution_count": 164,
   "metadata": {},
   "outputs": [
    {
     "data": {
      "text/plain": [
       "3.533333333333333"
      ]
     },
     "execution_count": 164,
     "metadata": {},
     "output_type": "execute_result"
    }
   ],
   "source": [
    "np.mean(a2)"
   ]
  },
  {
   "cell_type": "code",
   "execution_count": 165,
   "metadata": {},
   "outputs": [
    {
     "data": {
      "text/plain": [
       "1.679947089113887"
      ]
     },
     "execution_count": 165,
     "metadata": {},
     "output_type": "execute_result"
    }
   ],
   "source": [
    "np.sqrt(np.var(a2))"
   ]
  },
  {
   "cell_type": "code",
   "execution_count": 167,
   "metadata": {},
   "outputs": [
    {
     "data": {
      "text/plain": [
       "1.679947089113887"
      ]
     },
     "execution_count": 167,
     "metadata": {},
     "output_type": "execute_result"
    }
   ],
   "source": [
    "np.std(a2)"
   ]
  },
  {
   "cell_type": "code",
   "execution_count": 168,
   "metadata": {},
   "outputs": [],
   "source": [
    "high_var=np.array([1,100,200,300,4000,5000])"
   ]
  },
  {
   "cell_type": "code",
   "execution_count": 169,
   "metadata": {},
   "outputs": [
    {
     "data": {
      "text/plain": [
       "array([   1,  100,  200,  300, 4000, 5000])"
      ]
     },
     "execution_count": 169,
     "metadata": {},
     "output_type": "execute_result"
    }
   ],
   "source": [
    "high_var"
   ]
  },
  {
   "cell_type": "code",
   "execution_count": 170,
   "metadata": {},
   "outputs": [],
   "source": [
    "low_var=np.array([2,4,6,8,10])"
   ]
  },
  {
   "cell_type": "code",
   "execution_count": 171,
   "metadata": {},
   "outputs": [
    {
     "data": {
      "text/plain": [
       "array([ 2,  4,  6,  8, 10])"
      ]
     },
     "execution_count": 171,
     "metadata": {},
     "output_type": "execute_result"
    }
   ],
   "source": [
    "low_var"
   ]
  },
  {
   "cell_type": "code",
   "execution_count": 173,
   "metadata": {},
   "outputs": [
    {
     "data": {
      "text/plain": [
       "(4296133.472222221, 8.0)"
      ]
     },
     "execution_count": 173,
     "metadata": {},
     "output_type": "execute_result"
    }
   ],
   "source": [
    "np.var(high_var),np.var(low_var)"
   ]
  },
  {
   "cell_type": "code",
   "execution_count": 174,
   "metadata": {},
   "outputs": [
    {
     "data": {
      "text/plain": [
       "(2072.711623024829, 2.8284271247461903)"
      ]
     },
     "execution_count": 174,
     "metadata": {},
     "output_type": "execute_result"
    }
   ],
   "source": [
    "np.std(high_var),np.std(low_var)"
   ]
  },
  {
   "cell_type": "code",
   "execution_count": 175,
   "metadata": {},
   "outputs": [
    {
     "data": {
      "text/plain": [
       "(1600.1666666666667, 6.0)"
      ]
     },
     "execution_count": 175,
     "metadata": {},
     "output_type": "execute_result"
    }
   ],
   "source": [
    "np.mean(high_var),np.mean(low_var)"
   ]
  },
  {
   "cell_type": "markdown",
   "metadata": {},
   "source": [
    "### use of the matplotlib to print"
   ]
  },
  {
   "cell_type": "code",
   "execution_count": 176,
   "metadata": {},
   "outputs": [],
   "source": [
    "%matplotlib inline"
   ]
  },
  {
   "cell_type": "code",
   "execution_count": 177,
   "metadata": {},
   "outputs": [],
   "source": [
    "import matplotlib.pyplot as plt"
   ]
  },
  {
   "cell_type": "code",
   "execution_count": 178,
   "metadata": {},
   "outputs": [
    {
     "data": {
      "text/plain": [
       "(array([4., 0., 0., 0., 0., 0., 0., 1., 0., 1.]),\n",
       " array([1.0000e+00, 5.0090e+02, 1.0008e+03, 1.5007e+03, 2.0006e+03,\n",
       "        2.5005e+03, 3.0004e+03, 3.5003e+03, 4.0002e+03, 4.5001e+03,\n",
       "        5.0000e+03]),\n",
       " <BarContainer object of 10 artists>)"
      ]
     },
     "execution_count": 178,
     "metadata": {},
     "output_type": "execute_result"
    },
    {
     "data": {
      "image/png": "[encoded data removed]",
      "text/plain": [
       "<Figure size 640x480 with 1 Axes>"
      ]
     },
     "metadata": {},
     "output_type": "display_data"
    }
   ],
   "source": [
    "plt.hist(high_var)"
   ]
  },
  {
   "cell_type": "code",
   "execution_count": 179,
   "metadata": {},
   "outputs": [
    {
     "data": {
      "text/plain": [
       "(array([1., 0., 1., 0., 0., 1., 0., 1., 0., 1.]),\n",
       " array([ 2. ,  2.8,  3.6,  4.4,  5.2,  6. ,  6.8,  7.6,  8.4,  9.2, 10. ]),\n",
       " <BarContainer object of 10 artists>)"
      ]
     },
     "execution_count": 179,
     "metadata": {},
     "output_type": "execute_result"
    },
    {
     "data": {
      "image/png": "[encoded data removed]",
      "text/plain": [
       "<Figure size 640x480 with 1 Axes>"
      ]
     },
     "metadata": {},
     "output_type": "display_data"
    }
   ],
   "source": [
    "plt.hist(low_var)"
   ]
  },
  {
   "cell_type": "markdown",
   "metadata": {},
   "source": [
    "# Reshaping and transposing"
   ]
  },
  {
   "cell_type": "code",
   "execution_count": 180,
   "metadata": {},
   "outputs": [
    {
     "data": {
      "text/plain": [
       "array([[1. , 2.2, 3. ],\n",
       "       [4. , 5. , 6. ]])"
      ]
     },
     "execution_count": 180,
     "metadata": {},
     "output_type": "execute_result"
    }
   ],
   "source": [
    "a2"
   ]
  },
  {
   "cell_type": "code",
   "execution_count": 181,
   "metadata": {},
   "outputs": [
    {
     "data": {
      "text/plain": [
       "(2, 3)"
      ]
     },
     "execution_count": 181,
     "metadata": {},
     "output_type": "execute_result"
    }
   ],
   "source": [
    "a2.shape"
   ]
  },
  {
   "cell_type": "code",
   "execution_count": 182,
   "metadata": {},
   "outputs": [
    {
     "data": {
      "text/plain": [
       "6"
      ]
     },
     "execution_count": 182,
     "metadata": {},
     "output_type": "execute_result"
    }
   ],
   "source": [
    "a2.size"
   ]
  },
  {
   "cell_type": "code",
   "execution_count": 183,
   "metadata": {},
   "outputs": [
    {
     "data": {
      "text/plain": [
       "2"
      ]
     },
     "execution_count": 183,
     "metadata": {},
     "output_type": "execute_result"
    }
   ],
   "source": [
    "a2.ndim\n"
   ]
  },
  {
   "cell_type": "code",
   "execution_count": 184,
   "metadata": {},
   "outputs": [
    {
     "data": {
      "text/plain": [
       "array([[[ 1,  2,  3],\n",
       "        [ 4,  5,  6],\n",
       "        [ 7,  8,  9]],\n",
       "\n",
       "       [[10, 11, 12],\n",
       "        [13, 14, 15],\n",
       "        [16, 17, 18]]])"
      ]
     },
     "execution_count": 184,
     "metadata": {},
     "output_type": "execute_result"
    }
   ],
   "source": [
    "a3"
   ]
  },
  {
   "cell_type": "code",
   "execution_count": 185,
   "metadata": {},
   "outputs": [
    {
     "data": {
      "text/plain": [
       "(2, 3, 3)"
      ]
     },
     "execution_count": 185,
     "metadata": {},
     "output_type": "execute_result"
    }
   ],
   "source": [
    "a3.shape"
   ]
  },
  {
   "cell_type": "code",
   "execution_count": 186,
   "metadata": {},
   "outputs": [
    {
     "data": {
      "text/plain": [
       "(2, 3)"
      ]
     },
     "execution_count": 186,
     "metadata": {},
     "output_type": "execute_result"
    }
   ],
   "source": [
    "a2.shape"
   ]
  },
  {
   "cell_type": "code",
   "execution_count": 190,
   "metadata": {},
   "outputs": [
    {
     "data": {
      "text/plain": [
       "array([[[1. ],\n",
       "        [2.2],\n",
       "        [3. ]],\n",
       "\n",
       "       [[4. ],\n",
       "        [5. ],\n",
       "        [6. ]]])"
      ]
     },
     "execution_count": 190,
     "metadata": {},
     "output_type": "execute_result"
    }
   ],
   "source": [
    "a2.reshape(2,3,1)"
   ]
  },
  {
   "cell_type": "code",
   "execution_count": 191,
   "metadata": {},
   "outputs": [],
   "source": [
    "a2=a2.reshape(2,3,1)"
   ]
  },
  {
   "cell_type": "code",
   "execution_count": 189,
   "metadata": {},
   "outputs": [
    {
     "data": {
      "text/plain": [
       "array([[[ 1,  2,  3],\n",
       "        [ 4,  5,  6],\n",
       "        [ 7,  8,  9]],\n",
       "\n",
       "       [[10, 11, 12],\n",
       "        [13, 14, 15],\n",
       "        [16, 17, 18]]])"
      ]
     },
     "execution_count": 189,
     "metadata": {},
     "output_type": "execute_result"
    }
   ],
   "source": [
    "a3"
   ]
  },
  {
   "cell_type": "code",
   "execution_count": 192,
   "metadata": {},
   "outputs": [
    {
     "data": {
      "text/plain": [
       "array([[[1. ],\n",
       "        [2.2],\n",
       "        [3. ]],\n",
       "\n",
       "       [[4. ],\n",
       "        [5. ],\n",
       "        [6. ]]])"
      ]
     },
     "execution_count": 192,
     "metadata": {},
     "output_type": "execute_result"
    }
   ],
   "source": [
    "a2"
   ]
  },
  {
   "cell_type": "code",
   "execution_count": 193,
   "metadata": {},
   "outputs": [
    {
     "data": {
      "text/plain": [
       "array([[[  1. ,   2. ,   3. ],\n",
       "        [  8.8,  11. ,  13.2],\n",
       "        [ 21. ,  24. ,  27. ]],\n",
       "\n",
       "       [[ 40. ,  44. ,  48. ],\n",
       "        [ 65. ,  70. ,  75. ],\n",
       "        [ 96. , 102. , 108. ]]])"
      ]
     },
     "execution_count": 193,
     "metadata": {},
     "output_type": "execute_result"
    }
   ],
   "source": [
    "a2*a3"
   ]
  },
  {
   "cell_type": "code",
   "execution_count": 201,
   "metadata": {},
   "outputs": [],
   "source": [
    "n3=[[1,2.0,3],[4.0,5.0,6.5]]"
   ]
  },
  {
   "cell_type": "code",
   "execution_count": 204,
   "metadata": {},
   "outputs": [
    {
     "data": {
      "text/plain": [
       "list"
      ]
     },
     "execution_count": 204,
     "metadata": {},
     "output_type": "execute_result"
    }
   ],
   "source": [
    "type(n3)"
   ]
  },
  {
   "cell_type": "code",
   "execution_count": 207,
   "metadata": {},
   "outputs": [],
   "source": [
    "newarr=np.array([[1,2.0,3],[4.0,5.0,6.5]])"
   ]
  },
  {
   "cell_type": "code",
   "execution_count": 208,
   "metadata": {},
   "outputs": [
    {
     "data": {
      "text/plain": [
       "array([[1. , 2. , 3. ],\n",
       "       [4. , 5. , 6.5]])"
      ]
     },
     "execution_count": 208,
     "metadata": {},
     "output_type": "execute_result"
    }
   ],
   "source": [
    "newarr"
   ]
  },
  {
   "cell_type": "code",
   "execution_count": 209,
   "metadata": {},
   "outputs": [
    {
     "data": {
      "text/plain": [
       "array([[1. , 4. ],\n",
       "       [2. , 5. ],\n",
       "       [3. , 6.5]])"
      ]
     },
     "execution_count": 209,
     "metadata": {},
     "output_type": "execute_result"
    }
   ],
   "source": [
    "newarr.T"
   ]
  },
  {
   "cell_type": "code",
   "execution_count": 210,
   "metadata": {},
   "outputs": [
    {
     "data": {
      "text/plain": [
       "array([[1. , 4. ],\n",
       "       [2. , 5. ],\n",
       "       [3. , 6.5]])"
      ]
     },
     "execution_count": 210,
     "metadata": {},
     "output_type": "execute_result"
    }
   ],
   "source": [
    "newarr.transpose()"
   ]
  },
  {
   "cell_type": "code",
   "execution_count": 211,
   "metadata": {},
   "outputs": [
    {
     "data": {
      "text/plain": [
       "(3, 2)"
      ]
     },
     "execution_count": 211,
     "metadata": {},
     "output_type": "execute_result"
    }
   ],
   "source": [
    "newarr.T.shape"
   ]
  },
  {
   "cell_type": "code",
   "execution_count": 212,
   "metadata": {},
   "outputs": [
    {
     "data": {
      "text/plain": [
       "(2, 3, 3)"
      ]
     },
     "execution_count": 212,
     "metadata": {},
     "output_type": "execute_result"
    }
   ],
   "source": [
    "a3.shape"
   ]
  },
  {
   "cell_type": "code",
   "execution_count": 213,
   "metadata": {},
   "outputs": [
    {
     "data": {
      "text/plain": [
       "array([[[ 1, 10],\n",
       "        [ 4, 13],\n",
       "        [ 7, 16]],\n",
       "\n",
       "       [[ 2, 11],\n",
       "        [ 5, 14],\n",
       "        [ 8, 17]],\n",
       "\n",
       "       [[ 3, 12],\n",
       "        [ 6, 15],\n",
       "        [ 9, 18]]])"
      ]
     },
     "execution_count": 213,
     "metadata": {},
     "output_type": "execute_result"
    }
   ],
   "source": [
    "a3.T"
   ]
  },
  {
   "cell_type": "code",
   "execution_count": 215,
   "metadata": {},
   "outputs": [
    {
     "data": {
      "text/plain": [
       "array([[[ 1,  2,  3],\n",
       "        [ 4,  5,  6],\n",
       "        [ 7,  8,  9]],\n",
       "\n",
       "       [[10, 11, 12],\n",
       "        [13, 14, 15],\n",
       "        [16, 17, 18]]])"
      ]
     },
     "execution_count": 215,
     "metadata": {},
     "output_type": "execute_result"
    }
   ],
   "source": [
    "a3"
   ]
  },
  {
   "cell_type": "code",
   "execution_count": 214,
   "metadata": {},
   "outputs": [
    {
     "data": {
      "text/plain": [
       "(3, 3, 2)"
      ]
     },
     "execution_count": 214,
     "metadata": {},
     "output_type": "execute_result"
    }
   ],
   "source": [
    "a3.T.shape"
   ]
  },
  {
   "cell_type": "markdown",
   "metadata": {},
   "source": [
    "## Dot product"
   ]
  },
  {
   "cell_type": "code",
   "execution_count": 216,
   "metadata": {},
   "outputs": [],
   "source": [
    "mat1=np.random.randint(0,10,size=(5,3))\n",
    "mat2=np.random.randint(0,10,size=(5,3))\n"
   ]
  },
  {
   "cell_type": "code",
   "execution_count": 217,
   "metadata": {},
   "outputs": [
    {
     "data": {
      "text/plain": [
       "(array([[4, 8, 2],\n",
       "        [1, 1, 0],\n",
       "        [2, 6, 7],\n",
       "        [5, 3, 8],\n",
       "        [7, 7, 3]]),\n",
       " array([[9, 2, 3],\n",
       "        [6, 6, 7],\n",
       "        [4, 1, 4],\n",
       "        [9, 8, 9],\n",
       "        [0, 7, 1]]))"
      ]
     },
     "execution_count": 217,
     "metadata": {},
     "output_type": "execute_result"
    }
   ],
   "source": [
    "mat1,mat2"
   ]
  },
  {
   "cell_type": "code",
   "execution_count": 218,
   "metadata": {},
   "outputs": [
    {
     "data": {
      "text/plain": [
       "((5, 3), (5, 3))"
      ]
     },
     "execution_count": 218,
     "metadata": {},
     "output_type": "execute_result"
    }
   ],
   "source": [
    "mat1.shape,mat2.shape"
   ]
  },
  {
   "cell_type": "code",
   "execution_count": 219,
   "metadata": {},
   "outputs": [
    {
     "data": {
      "text/plain": [
       "array([[36, 16,  6],\n",
       "       [ 6,  6,  0],\n",
       "       [ 8,  6, 28],\n",
       "       [45, 24, 72],\n",
       "       [ 0, 49,  3]])"
      ]
     },
     "execution_count": 219,
     "metadata": {},
     "output_type": "execute_result"
    }
   ],
   "source": [
    "mat1*mat2"
   ]
  },
  {
   "cell_type": "code",
   "execution_count": 222,
   "metadata": {},
   "outputs": [
    {
     "data": {
      "text/plain": [
       "(array([[4, 8, 2],\n",
       "        [1, 1, 0],\n",
       "        [2, 6, 7],\n",
       "        [5, 3, 8],\n",
       "        [7, 7, 3]]),\n",
       " array([[9, 2, 3],\n",
       "        [6, 6, 7],\n",
       "        [4, 1, 4],\n",
       "        [9, 8, 9],\n",
       "        [0, 7, 1]]))"
      ]
     },
     "execution_count": 222,
     "metadata": {},
     "output_type": "execute_result"
    }
   ],
   "source": [
    "mat2=mat2.transpose()\n",
    "mat1,mat2"
   ]
  },
  {
   "cell_type": "code",
   "execution_count": 225,
   "metadata": {},
   "outputs": [
    {
     "data": {
      "text/plain": [
       "((5, 3), (5, 3))"
      ]
     },
     "execution_count": 225,
     "metadata": {},
     "output_type": "execute_result"
    }
   ],
   "source": [
    "mat1.shape,mat2.shape\n"
   ]
  },
  {
   "cell_type": "code",
   "execution_count": 229,
   "metadata": {},
   "outputs": [],
   "source": [
    "m3=np.dot(mat1,mat2.transpose())"
   ]
  },
  {
   "cell_type": "code",
   "execution_count": 230,
   "metadata": {},
   "outputs": [
    {
     "data": {
      "text/plain": [
       "(5, 5)"
      ]
     },
     "execution_count": 230,
     "metadata": {},
     "output_type": "execute_result"
    }
   ],
   "source": [
    "m3.shape"
   ]
  },
  {
   "cell_type": "markdown",
   "metadata": {},
   "source": [
    "### Comparision operator"
   ]
  },
  {
   "cell_type": "code",
   "execution_count": 234,
   "metadata": {},
   "outputs": [
    {
     "name": "stdout",
     "output_type": "stream",
     "text": [
      "numpy\n"
     ]
    }
   ],
   "source": [
    "print('numpy')"
   ]
  }
 ],
 "metadata": {
  "kernelspec": {
   "display_name": "Python 3",
   "language": "python",
   "name": "python3"
  },
  "language_info": {
   "codemirror_mode": {
    "name": "ipython",
    "version": 3
   },
   "file_extension": ".py",
   "mimetype": "text/x-python",
   "name": "python",
   "nbconvert_exporter": "python",
   "pygments_lexer": "ipython3",
   "version": "3.12.7"
  }
 },
 "nbformat": 4,
 "nbformat_minor": 2
}
